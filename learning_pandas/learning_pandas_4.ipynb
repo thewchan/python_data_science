{
 "cells": [
  {
   "cell_type": "markdown",
   "metadata": {},
   "source": [
    "### DataFrames\n",
    "\n",
    "DataFrames are two-dimensional Series objects in pandas, essentially. Unlike many other databases and spreadsheets, pandas DataFrames are column-based instead of row-based. In a DataFrame, we can think of each column as a Series. We can achieve data structures similar to pandas DataFrmae in base Python:"
   ]
  },
  {
   "cell_type": "code",
   "execution_count": 1,
   "metadata": {},
   "outputs": [
    {
     "data": {
      "text/plain": [
       "{'index': [0, 1, 2],\n",
       " 'cols': [{'name': 'growth', 'data': [0.5, 0.7, 1.2]},\n",
       "  {'name': 'Name', 'data': ['Paul', 'Geroge', 'Ringo']}]}"
      ]
     },
     "execution_count": 1,
     "metadata": {},
     "output_type": "execute_result"
    }
   ],
   "source": [
    "df = {\n",
    "    'index': [0, 1, 2],\n",
    "    'cols': [\n",
    "        {\n",
    "            'name': 'growth',\n",
    "            'data': [.5, .7, 1.2],\n",
    "        },\n",
    "        {\n",
    "            'name': 'Name',\n",
    "            'data': ['Paul', 'Geroge', 'Ringo']\n",
    "        },\n",
    "    ]\n",
    "}\n",
    "\n",
    "df"
   ]
  },
  {
   "cell_type": "markdown",
   "metadata": {},
   "source": [
    "We can access rows via the \"index\", and columns with the column names. Here we can define some functions to do so:"
   ]
  },
  {
   "cell_type": "code",
   "execution_count": 2,
   "metadata": {},
   "outputs": [
    {
     "data": {
      "text/plain": [
       "[0.7, 'Geroge']"
      ]
     },
     "execution_count": 2,
     "metadata": {},
     "output_type": "execute_result"
    }
   ],
   "source": [
    "def get_row(df, idx):\n",
    "    results = []\n",
    "    value_idx = df['index'].index(idx)\n",
    "    for col in df['cols']:\n",
    "        results.append(col['data'][value_idx])\n",
    "    return results\n",
    "\n",
    "get_row(df, 1)"
   ]
  },
  {
   "cell_type": "code",
   "execution_count": 3,
   "metadata": {},
   "outputs": [
    {
     "data": {
      "text/plain": [
       "['Paul', 'Geroge', 'Ringo']"
      ]
     },
     "execution_count": 3,
     "metadata": {},
     "output_type": "execute_result"
    }
   ],
   "source": [
    "def get_col(df, name):\n",
    "    for col in df['cols']:\n",
    "        if col['name'] == name:\n",
    "            return col['data']\n",
    "\n",
    "get_col(df, 'Name')"
   ]
  },
  {
   "cell_type": "markdown",
   "metadata": {},
   "source": [
    "In pandas, all the above is build-in and can be readily achieved with the DataFrame data structure."
   ]
  },
  {
   "cell_type": "code",
   "execution_count": 6,
   "metadata": {},
   "outputs": [
    {
     "data": {
      "text/html": [
       "<div>\n",
       "<style scoped>\n",
       "    .dataframe tbody tr th:only-of-type {\n",
       "        vertical-align: middle;\n",
       "    }\n",
       "\n",
       "    .dataframe tbody tr th {\n",
       "        vertical-align: top;\n",
       "    }\n",
       "\n",
       "    .dataframe thead th {\n",
       "        text-align: right;\n",
       "    }\n",
       "</style>\n",
       "<table border=\"1\" class=\"dataframe\">\n",
       "  <thead>\n",
       "    <tr style=\"text-align: right;\">\n",
       "      <th></th>\n",
       "      <th>growth</th>\n",
       "      <th>Name</th>\n",
       "    </tr>\n",
       "  </thead>\n",
       "  <tbody>\n",
       "    <tr>\n",
       "      <th>0</th>\n",
       "      <td>0.5</td>\n",
       "      <td>Paul</td>\n",
       "    </tr>\n",
       "    <tr>\n",
       "      <th>1</th>\n",
       "      <td>0.7</td>\n",
       "      <td>George</td>\n",
       "    </tr>\n",
       "    <tr>\n",
       "      <th>2</th>\n",
       "      <td>1.2</td>\n",
       "      <td>Ringo</td>\n",
       "    </tr>\n",
       "  </tbody>\n",
       "</table>\n",
       "</div>"
      ],
      "text/plain": [
       "   growth    Name\n",
       "0     0.5    Paul\n",
       "1     0.7  George\n",
       "2     1.2   Ringo"
      ]
     },
     "execution_count": 6,
     "metadata": {},
     "output_type": "execute_result"
    }
   ],
   "source": [
    "import pandas as pd\n",
    "\n",
    "df = pd.DataFrame({\n",
    "    'growth': [.5, .7, 1.2],\n",
    "    'Name': ['Paul', 'George', 'Ringo']\n",
    "})\n",
    "\n",
    "df"
   ]
  },
  {
   "cell_type": "markdown",
   "metadata": {},
   "source": [
    "Just like a Series, `.iloc()` and `.loc()` function as expected:"
   ]
  },
  {
   "cell_type": "code",
   "execution_count": 7,
   "metadata": {},
   "outputs": [
    {
     "data": {
      "text/plain": [
       "growth      1.2\n",
       "Name      Ringo\n",
       "Name: 2, dtype: object"
      ]
     },
     "execution_count": 7,
     "metadata": {},
     "output_type": "execute_result"
    }
   ],
   "source": [
    "df.iloc[2]"
   ]
  },
  {
   "cell_type": "code",
   "execution_count": 9,
   "metadata": {},
   "outputs": [
    {
     "data": {
      "text/plain": [
       "0      Paul\n",
       "1    George\n",
       "2     Ringo\n",
       "Name: Name, dtype: object"
      ]
     },
     "execution_count": 9,
     "metadata": {},
     "output_type": "execute_result"
    }
   ],
   "source": [
    "df.iloc[:, 1] # to access columns, we have to also specify we want all rows"
   ]
  },
  {
   "cell_type": "code",
   "execution_count": 10,
   "metadata": {},
   "outputs": [
    {
     "data": {
      "text/plain": [
       "growth      1.2\n",
       "Name      Ringo\n",
       "Name: 2, dtype: object"
      ]
     },
     "execution_count": 10,
     "metadata": {},
     "output_type": "execute_result"
    }
   ],
   "source": [
    "df.loc[2]"
   ]
  },
  {
   "cell_type": "code",
   "execution_count": 11,
   "metadata": {},
   "outputs": [
    {
     "data": {
      "text/plain": [
       "0      Paul\n",
       "1    George\n",
       "2     Ringo\n",
       "Name: Name, dtype: object"
      ]
     },
     "execution_count": 11,
     "metadata": {},
     "output_type": "execute_result"
    }
   ],
   "source": [
    "df.loc[:, 'Name']"
   ]
  },
  {
   "cell_type": "markdown",
   "metadata": {},
   "source": [
    "Note that we can also access columns with the `[]` accessor, although this is discouraged due to ambiguity:"
   ]
  },
  {
   "cell_type": "code",
   "execution_count": 12,
   "metadata": {},
   "outputs": [
    {
     "data": {
      "text/plain": [
       "0      Paul\n",
       "1    George\n",
       "2     Ringo\n",
       "Name: Name, dtype: object"
      ]
     },
     "execution_count": 12,
     "metadata": {},
     "output_type": "execute_result"
    }
   ],
   "source": [
    "df['Name']"
   ]
  },
  {
   "cell_type": "markdown",
   "metadata": {},
   "source": [
    "A column of a DataFrame is actually a Series object, and therefore any methods and operation valid on a Series can be down on a column of a DataFrame:"
   ]
  },
  {
   "cell_type": "code",
   "execution_count": 13,
   "metadata": {},
   "outputs": [
    {
     "data": {
      "text/plain": [
       "pandas.core.series.Series"
      ]
     },
     "execution_count": 13,
     "metadata": {},
     "output_type": "execute_result"
    }
   ],
   "source": [
    "type(df.loc[:, 'Name'])"
   ]
  },
  {
   "cell_type": "code",
   "execution_count": 15,
   "metadata": {},
   "outputs": [
    {
     "data": {
      "text/plain": [
       "0      paul\n",
       "1    george\n",
       "2     ringo\n",
       "Name: Name, dtype: object"
      ]
     },
     "execution_count": 15,
     "metadata": {},
     "output_type": "execute_result"
    }
   ],
   "source": [
    "df.loc[:, 'Name'].str.lower()"
   ]
  },
  {
   "cell_type": "markdown",
   "metadata": {},
   "source": [
    "Like a Series, you can use the dot accessor to acess columns as attributes as well, with all the same caveats. This will fail if the columns are named the same as one of the reserved words."
   ]
  },
  {
   "cell_type": "code",
   "execution_count": 16,
   "metadata": {},
   "outputs": [
    {
     "data": {
      "text/plain": [
       "0      Paul\n",
       "1    George\n",
       "2     Ringo\n",
       "Name: Name, dtype: object"
      ]
     },
     "execution_count": 16,
     "metadata": {},
     "output_type": "execute_result"
    }
   ],
   "source": [
    "df.Name"
   ]
  },
  {
   "cell_type": "markdown",
   "metadata": {},
   "source": [
    "### Constructing a DataFrame\n",
    "\n",
    "DataFrames can be created in many ways:\n",
    "\n",
    "* From columns via dictionary of lists\n",
    "* From rows via list of dictionaries\n",
    "* From .csv files via `pd.read_csv()`\n",
    "* From NumPy `ndarray`\n",
    "* Etc. (SQL, HDF5...)\n",
    "\n",
    "Let's try to make a DataFrame from rows:"
   ]
  },
  {
   "cell_type": "code",
   "execution_count": 17,
   "metadata": {},
   "outputs": [
    {
     "data": {
      "text/html": [
       "<div>\n",
       "<style scoped>\n",
       "    .dataframe tbody tr th:only-of-type {\n",
       "        vertical-align: middle;\n",
       "    }\n",
       "\n",
       "    .dataframe tbody tr th {\n",
       "        vertical-align: top;\n",
       "    }\n",
       "\n",
       "    .dataframe thead th {\n",
       "        text-align: right;\n",
       "    }\n",
       "</style>\n",
       "<table border=\"1\" class=\"dataframe\">\n",
       "  <thead>\n",
       "    <tr style=\"text-align: right;\">\n",
       "      <th></th>\n",
       "      <th>growth</th>\n",
       "      <th>Name</th>\n",
       "    </tr>\n",
       "  </thead>\n",
       "  <tbody>\n",
       "    <tr>\n",
       "      <th>0</th>\n",
       "      <td>0.5</td>\n",
       "      <td>Paul</td>\n",
       "    </tr>\n",
       "    <tr>\n",
       "      <th>1</th>\n",
       "      <td>0.7</td>\n",
       "      <td>Geroge</td>\n",
       "    </tr>\n",
       "    <tr>\n",
       "      <th>2</th>\n",
       "      <td>1.2</td>\n",
       "      <td>Ringo</td>\n",
       "    </tr>\n",
       "  </tbody>\n",
       "</table>\n",
       "</div>"
      ],
      "text/plain": [
       "   growth    Name\n",
       "0     0.5    Paul\n",
       "1     0.7  Geroge\n",
       "2     1.2   Ringo"
      ]
     },
     "execution_count": 17,
     "metadata": {},
     "output_type": "execute_result"
    }
   ],
   "source": [
    "pd.DataFrame([\n",
    "    {'growth': .5, 'Name': 'Paul'},\n",
    "    {'growth': .7, 'Name': 'Geroge'},\n",
    "    {'growth': 1.2, 'Name': 'Ringo'}\n",
    "])"
   ]
  },
  {
   "cell_type": "markdown",
   "metadata": {},
   "source": [
    "From a file:"
   ]
  },
  {
   "cell_type": "code",
   "execution_count": 20,
   "metadata": {},
   "outputs": [
    {
     "data": {
      "text/html": [
       "<div>\n",
       "<style scoped>\n",
       "    .dataframe tbody tr th:only-of-type {\n",
       "        vertical-align: middle;\n",
       "    }\n",
       "\n",
       "    .dataframe tbody tr th {\n",
       "        vertical-align: top;\n",
       "    }\n",
       "\n",
       "    .dataframe thead th {\n",
       "        text-align: right;\n",
       "    }\n",
       "</style>\n",
       "<table border=\"1\" class=\"dataframe\">\n",
       "  <thead>\n",
       "    <tr style=\"text-align: right;\">\n",
       "      <th></th>\n",
       "      <th>growth</th>\n",
       "      <th>Name</th>\n",
       "    </tr>\n",
       "  </thead>\n",
       "  <tbody>\n",
       "    <tr>\n",
       "      <th>0</th>\n",
       "      <td>0.5</td>\n",
       "      <td>Paul</td>\n",
       "    </tr>\n",
       "    <tr>\n",
       "      <th>1</th>\n",
       "      <td>0.7</td>\n",
       "      <td>George</td>\n",
       "    </tr>\n",
       "    <tr>\n",
       "      <th>2</th>\n",
       "      <td>1.2</td>\n",
       "      <td>Ringo</td>\n",
       "    </tr>\n",
       "  </tbody>\n",
       "</table>\n",
       "</div>"
      ],
      "text/plain": [
       "   growth    Name\n",
       "0     0.5    Paul\n",
       "1     0.7  George\n",
       "2     1.2   Ringo"
      ]
     },
     "execution_count": 20,
     "metadata": {},
     "output_type": "execute_result"
    }
   ],
   "source": [
    "from io import StringIO\n",
    "\n",
    "csv_file = StringIO(\n",
    "    '''growth,Name\n",
    "    .5,Paul\n",
    "    .7,George\n",
    "    1.2,Ringo''')\n",
    "\n",
    "pd.read_csv(csv_file)"
   ]
  },
  {
   "cell_type": "markdown",
   "metadata": {},
   "source": [
    "From a NumPy array (in this case the column names will need to be specified):"
   ]
  },
  {
   "cell_type": "code",
   "execution_count": 21,
   "metadata": {},
   "outputs": [
    {
     "data": {
      "text/html": [
       "<div>\n",
       "<style scoped>\n",
       "    .dataframe tbody tr th:only-of-type {\n",
       "        vertical-align: middle;\n",
       "    }\n",
       "\n",
       "    .dataframe tbody tr th {\n",
       "        vertical-align: top;\n",
       "    }\n",
       "\n",
       "    .dataframe thead th {\n",
       "        text-align: right;\n",
       "    }\n",
       "</style>\n",
       "<table border=\"1\" class=\"dataframe\">\n",
       "  <thead>\n",
       "    <tr style=\"text-align: right;\">\n",
       "      <th></th>\n",
       "      <th>a</th>\n",
       "      <th>b</th>\n",
       "      <th>c</th>\n",
       "    </tr>\n",
       "  </thead>\n",
       "  <tbody>\n",
       "    <tr>\n",
       "      <th>0</th>\n",
       "      <td>1.191933</td>\n",
       "      <td>0.926145</td>\n",
       "      <td>-0.153270</td>\n",
       "    </tr>\n",
       "    <tr>\n",
       "      <th>1</th>\n",
       "      <td>0.350382</td>\n",
       "      <td>1.423402</td>\n",
       "      <td>-1.306816</td>\n",
       "    </tr>\n",
       "    <tr>\n",
       "      <th>2</th>\n",
       "      <td>-0.465477</td>\n",
       "      <td>0.175962</td>\n",
       "      <td>-0.021496</td>\n",
       "    </tr>\n",
       "    <tr>\n",
       "      <th>3</th>\n",
       "      <td>0.284553</td>\n",
       "      <td>-0.099216</td>\n",
       "      <td>-1.758348</td>\n",
       "    </tr>\n",
       "    <tr>\n",
       "      <th>4</th>\n",
       "      <td>-0.172709</td>\n",
       "      <td>-0.450075</td>\n",
       "      <td>-0.690076</td>\n",
       "    </tr>\n",
       "    <tr>\n",
       "      <th>5</th>\n",
       "      <td>-0.103144</td>\n",
       "      <td>0.292433</td>\n",
       "      <td>-0.670610</td>\n",
       "    </tr>\n",
       "    <tr>\n",
       "      <th>6</th>\n",
       "      <td>2.083198</td>\n",
       "      <td>-1.919844</td>\n",
       "      <td>-0.879781</td>\n",
       "    </tr>\n",
       "    <tr>\n",
       "      <th>7</th>\n",
       "      <td>-1.538665</td>\n",
       "      <td>-1.276708</td>\n",
       "      <td>0.420922</td>\n",
       "    </tr>\n",
       "    <tr>\n",
       "      <th>8</th>\n",
       "      <td>-0.857284</td>\n",
       "      <td>1.195485</td>\n",
       "      <td>-0.095356</td>\n",
       "    </tr>\n",
       "    <tr>\n",
       "      <th>9</th>\n",
       "      <td>-1.418747</td>\n",
       "      <td>-0.545250</td>\n",
       "      <td>-0.494243</td>\n",
       "    </tr>\n",
       "  </tbody>\n",
       "</table>\n",
       "</div>"
      ],
      "text/plain": [
       "          a         b         c\n",
       "0  1.191933  0.926145 -0.153270\n",
       "1  0.350382  1.423402 -1.306816\n",
       "2 -0.465477  0.175962 -0.021496\n",
       "3  0.284553 -0.099216 -1.758348\n",
       "4 -0.172709 -0.450075 -0.690076\n",
       "5 -0.103144  0.292433 -0.670610\n",
       "6  2.083198 -1.919844 -0.879781\n",
       "7 -1.538665 -1.276708  0.420922\n",
       "8 -0.857284  1.195485 -0.095356\n",
       "9 -1.418747 -0.545250 -0.494243"
      ]
     },
     "execution_count": 21,
     "metadata": {},
     "output_type": "execute_result"
    }
   ],
   "source": [
    "import numpy as np\n",
    "\n",
    "pd.DataFrame(np.random.randn(10,3),\n",
    "            columns=['a', 'b', 'c'])"
   ]
  },
  {
   "cell_type": "markdown",
   "metadata": {},
   "source": [
    "### Axes of DataFrames\n",
    "\n",
    "Because DataFrames are two-dimensional, they have two axes (whereas Series objects only have one). Axis `0` is the row axis, while `1` is the column axis. The axes can be access via the `.axes` attribute:"
   ]
  },
  {
   "cell_type": "code",
   "execution_count": 22,
   "metadata": {},
   "outputs": [
    {
     "data": {
      "text/plain": [
       "[RangeIndex(start=0, stop=3, step=1),\n",
       " Index(['growth', 'Name'], dtype='object')]"
      ]
     },
     "execution_count": 22,
     "metadata": {},
     "output_type": "execute_result"
    }
   ],
   "source": [
    "df.axes"
   ]
  },
  {
   "cell_type": "code",
   "execution_count": 23,
   "metadata": {},
   "outputs": [
    {
     "data": {
      "text/plain": [
       "RangeIndex(start=0, stop=3, step=1)"
      ]
     },
     "execution_count": 23,
     "metadata": {},
     "output_type": "execute_result"
    }
   ],
   "source": [
    "df.axes[0] # Rows"
   ]
  },
  {
   "cell_type": "code",
   "execution_count": 24,
   "metadata": {},
   "outputs": [
    {
     "data": {
      "text/plain": [
       "Index(['growth', 'Name'], dtype='object')"
      ]
     },
     "execution_count": 24,
     "metadata": {},
     "output_type": "execute_result"
    }
   ],
   "source": [
    "df.axes[1] # Columns"
   ]
  },
  {
   "cell_type": "markdown",
   "metadata": {},
   "source": [
    "Many methods that are applied to a DataFrame require us to specify the axis:"
   ]
  },
  {
   "cell_type": "code",
   "execution_count": 25,
   "metadata": {},
   "outputs": [
    {
     "data": {
      "text/plain": [
       "growth                2.4\n",
       "Name      PaulGeorgeRingo\n",
       "dtype: object"
      ]
     },
     "execution_count": 25,
     "metadata": {},
     "output_type": "execute_result"
    }
   ],
   "source": [
    "df.apply(np.sum, axis=0)"
   ]
  },
  {
   "cell_type": "markdown",
   "metadata": {},
   "source": [
    "Now let us deal with a more complex DataFrame:"
   ]
  },
  {
   "cell_type": "code",
   "execution_count": 52,
   "metadata": {},
   "outputs": [
    {
     "data": {
      "text/html": [
       "<div>\n",
       "<style scoped>\n",
       "    .dataframe tbody tr th:only-of-type {\n",
       "        vertical-align: middle;\n",
       "    }\n",
       "\n",
       "    .dataframe tbody tr th {\n",
       "        vertical-align: top;\n",
       "    }\n",
       "\n",
       "    .dataframe thead th {\n",
       "        text-align: right;\n",
       "    }\n",
       "</style>\n",
       "<table border=\"1\" class=\"dataframe\">\n",
       "  <thead>\n",
       "    <tr style=\"text-align: right;\">\n",
       "      <th></th>\n",
       "      <th>LOCATION</th>\n",
       "      <th>MILES</th>\n",
       "      <th>ELEVATION</th>\n",
       "      <th>CUMUL</th>\n",
       "      <th>% CUMUL GAIN</th>\n",
       "    </tr>\n",
       "  </thead>\n",
       "  <tbody>\n",
       "    <tr>\n",
       "      <th>0</th>\n",
       "      <td>Big Mountain Pass Aid Station</td>\n",
       "      <td>39.07</td>\n",
       "      <td>7432</td>\n",
       "      <td>11579.0</td>\n",
       "      <td>43.8%</td>\n",
       "    </tr>\n",
       "    <tr>\n",
       "      <th>1</th>\n",
       "      <td>Mules Ear Meadow</td>\n",
       "      <td>40.75</td>\n",
       "      <td>7478</td>\n",
       "      <td>12008.0</td>\n",
       "      <td>45.4%</td>\n",
       "    </tr>\n",
       "    <tr>\n",
       "      <th>2</th>\n",
       "      <td>Bald Mountain</td>\n",
       "      <td>42.46</td>\n",
       "      <td>7869</td>\n",
       "      <td>12593.0</td>\n",
       "      <td>47.6%</td>\n",
       "    </tr>\n",
       "    <tr>\n",
       "      <th>3</th>\n",
       "      <td>Pence Point</td>\n",
       "      <td>43.99</td>\n",
       "      <td>7521</td>\n",
       "      <td>12813.0</td>\n",
       "      <td>48.4%</td>\n",
       "    </tr>\n",
       "    <tr>\n",
       "      <th>4</th>\n",
       "      <td>Alexander Ridge Aid Station</td>\n",
       "      <td>46.90</td>\n",
       "      <td>6160</td>\n",
       "      <td>13169.0</td>\n",
       "      <td>49.8%</td>\n",
       "    </tr>\n",
       "    <tr>\n",
       "      <th>5</th>\n",
       "      <td>Alexander Springs</td>\n",
       "      <td>47.97</td>\n",
       "      <td>5956</td>\n",
       "      <td>13319.0</td>\n",
       "      <td>50.3%</td>\n",
       "    </tr>\n",
       "    <tr>\n",
       "      <th>6</th>\n",
       "      <td>Rogers Trail Junction</td>\n",
       "      <td>49.52</td>\n",
       "      <td>6698</td>\n",
       "      <td>13967.0</td>\n",
       "      <td>52.8%</td>\n",
       "    </tr>\n",
       "    <tr>\n",
       "      <th>7</th>\n",
       "      <td>Rogers Saddle</td>\n",
       "      <td>49.77</td>\n",
       "      <td>6790</td>\n",
       "      <td>14073.0</td>\n",
       "      <td>53.2%</td>\n",
       "    </tr>\n",
       "    <tr>\n",
       "      <th>8</th>\n",
       "      <td>Railroad Bed</td>\n",
       "      <td>50.15</td>\n",
       "      <td>6520</td>\n",
       "      <td>NaN</td>\n",
       "      <td>NaN</td>\n",
       "    </tr>\n",
       "    <tr>\n",
       "      <th>9</th>\n",
       "      <td>Lambs Canyon Underpass Aid Station</td>\n",
       "      <td>52.48</td>\n",
       "      <td>6111</td>\n",
       "      <td>14329.0</td>\n",
       "      <td>54.2%</td>\n",
       "    </tr>\n",
       "  </tbody>\n",
       "</table>\n",
       "</div>"
      ],
      "text/plain": [
       "                                 LOCATION  MILES  ELEVATION    CUMUL  \\\n",
       "0           Big Mountain Pass Aid Station  39.07       7432  11579.0   \n",
       "1                        Mules Ear Meadow  40.75       7478  12008.0   \n",
       "2                           Bald Mountain  42.46       7869  12593.0   \n",
       "3                             Pence Point  43.99       7521  12813.0   \n",
       "4             Alexander Ridge Aid Station  46.90       6160  13169.0   \n",
       "5                       Alexander Springs  47.97       5956  13319.0   \n",
       "6                   Rogers Trail Junction  49.52       6698  13967.0   \n",
       "7                           Rogers Saddle  49.77       6790  14073.0   \n",
       "8                            Railroad Bed  50.15       6520      NaN   \n",
       "9      Lambs Canyon Underpass Aid Station  52.48       6111  14329.0   \n",
       "\n",
       "  % CUMUL GAIN  \n",
       "0        43.8%  \n",
       "1        45.4%  \n",
       "2        47.6%  \n",
       "3        48.4%  \n",
       "4        49.8%  \n",
       "5        50.3%  \n",
       "6        52.8%  \n",
       "7        53.2%  \n",
       "8          NaN  \n",
       "9        54.2%  "
      ]
     },
     "execution_count": 52,
     "metadata": {},
     "output_type": "execute_result"
    }
   ],
   "source": [
    "data = StringIO(\n",
    "    '''LOCATION,MILES,ELEVATION,CUMUL,% CUMUL GAIN\n",
    "    Big Mountain Pass Aid Station,39.07,7432,11579,43.8%\n",
    "    Mules Ear Meadow,40.75,7478,12008,45.4%\n",
    "    Bald Mountain,42.46,7869,12593,47.6%\n",
    "    Pence Point,43.99,7521,12813,48.4%\n",
    "    Alexander Ridge Aid Station,46.9,6160,13169,49.8%\n",
    "    Alexander Springs,47.97,5956,13319,50.3%\n",
    "    Rogers Trail Junction,49.52,6698,13967,52.8%\n",
    "    Rogers Saddle,49.77,6790,14073,53.2%\n",
    "    Railroad Bed,50.15,6520,,\n",
    "    Lambs Canyon Underpass Aid Station,52.48,6111,14329,54.2%''')\n",
    "df = pd.read_csv(data)\n",
    "\n",
    "df"
   ]
  },
  {
   "cell_type": "markdown",
   "metadata": {},
   "source": [
    "Depending on where you view the DataFrame, it may or may not be in a format that make sense. One way to bruteforce viewability is to use the `.to_string()` method which accepts a `line_width=` parameter:"
   ]
  },
  {
   "cell_type": "code",
   "execution_count": 53,
   "metadata": {},
   "outputs": [
    {
     "name": "stdout",
     "output_type": "stream",
     "text": [
      "                                 LOCATION  MILES  \\\n",
      "0           Big Mountain Pass Aid Station  39.07   \n",
      "1                        Mules Ear Meadow  40.75   \n",
      "2                           Bald Mountain  42.46   \n",
      "3                             Pence Point  43.99   \n",
      "4             Alexander Ridge Aid Station  46.90   \n",
      "5                       Alexander Springs  47.97   \n",
      "6                   Rogers Trail Junction  49.52   \n",
      "7                           Rogers Saddle  49.77   \n",
      "8                            Railroad Bed  50.15   \n",
      "9      Lambs Canyon Underpass Aid Station  52.48   \n",
      "\n",
      "   ELEVATION    CUMUL % CUMUL GAIN  \n",
      "0       7432  11579.0        43.8%  \n",
      "1       7478  12008.0        45.4%  \n",
      "2       7869  12593.0        47.6%  \n",
      "3       7521  12813.0        48.4%  \n",
      "4       6160  13169.0        49.8%  \n",
      "5       5956  13319.0        50.3%  \n",
      "6       6698  13967.0        52.8%  \n",
      "7       6790  14073.0        53.2%  \n",
      "8       6520      NaN          NaN  \n",
      "9       6111  14329.0        54.2%  \n"
     ]
    }
   ],
   "source": [
    "print(df.to_string(line_width=60))"
   ]
  },
  {
   "cell_type": "markdown",
   "metadata": {},
   "source": [
    "Or, another option is the transpose the DataFrame:"
   ]
  },
  {
   "cell_type": "code",
   "execution_count": 54,
   "metadata": {},
   "outputs": [
    {
     "name": "stdout",
     "output_type": "stream",
     "text": [
      "                                              0  \\\n",
      "LOCATION          Big Mountain Pass Aid Station   \n",
      "MILES                                     39.07   \n",
      "ELEVATION                                  7432   \n",
      "CUMUL                                     11579   \n",
      "% CUMUL GAIN                              43.8%   \n",
      "\n",
      "                                 1                  2  \\\n",
      "LOCATION          Mules Ear Meadow      Bald Mountain   \n",
      "MILES                        40.75              42.46   \n",
      "ELEVATION                     7478               7869   \n",
      "CUMUL                        12008              12593   \n",
      "% CUMUL GAIN                 45.4%              47.6%   \n",
      "\n",
      "                            3  \\\n",
      "LOCATION          Pence Point   \n",
      "MILES                   43.99   \n",
      "ELEVATION                7521   \n",
      "CUMUL                   12813   \n",
      "% CUMUL GAIN            48.4%   \n",
      "\n",
      "                                            4  \\\n",
      "LOCATION          Alexander Ridge Aid Station   \n",
      "MILES                                    46.9   \n",
      "ELEVATION                                6160   \n",
      "CUMUL                                   13169   \n",
      "% CUMUL GAIN                            49.8%   \n",
      "\n",
      "                                  5  \\\n",
      "LOCATION          Alexander Springs   \n",
      "MILES                         47.97   \n",
      "ELEVATION                      5956   \n",
      "CUMUL                         13319   \n",
      "% CUMUL GAIN                  50.3%   \n",
      "\n",
      "                                      6  \\\n",
      "LOCATION          Rogers Trail Junction   \n",
      "MILES                             49.52   \n",
      "ELEVATION                          6698   \n",
      "CUMUL                             13967   \n",
      "% CUMUL GAIN                      52.8%   \n",
      "\n",
      "                              7                 8  \\\n",
      "LOCATION          Rogers Saddle      Railroad Bed   \n",
      "MILES                     49.77             50.15   \n",
      "ELEVATION                  6790              6520   \n",
      "CUMUL                     14073               NaN   \n",
      "% CUMUL GAIN              53.2%               NaN   \n",
      "\n",
      "                                                   9  \n",
      "LOCATION          Lambs Canyon Underpass Aid Station  \n",
      "MILES                                          52.48  \n",
      "ELEVATION                                       6111  \n",
      "CUMUL                                          14329  \n",
      "% CUMUL GAIN                                   54.2%  \n"
     ]
    }
   ],
   "source": [
    "print(df.T.to_string(line_width=60))"
   ]
  },
  {
   "cell_type": "markdown",
   "metadata": {},
   "source": [
    "### Accessing Data from DataFrames\n",
    "\n",
    "Just like a Series, we can use `.describe()` to get some immediate feel of the data:"
   ]
  },
  {
   "cell_type": "code",
   "execution_count": 55,
   "metadata": {},
   "outputs": [
    {
     "data": {
      "text/html": [
       "<div>\n",
       "<style scoped>\n",
       "    .dataframe tbody tr th:only-of-type {\n",
       "        vertical-align: middle;\n",
       "    }\n",
       "\n",
       "    .dataframe tbody tr th {\n",
       "        vertical-align: top;\n",
       "    }\n",
       "\n",
       "    .dataframe thead th {\n",
       "        text-align: right;\n",
       "    }\n",
       "</style>\n",
       "<table border=\"1\" class=\"dataframe\">\n",
       "  <thead>\n",
       "    <tr style=\"text-align: right;\">\n",
       "      <th></th>\n",
       "      <th>MILES</th>\n",
       "      <th>ELEVATION</th>\n",
       "      <th>CUMUL</th>\n",
       "    </tr>\n",
       "  </thead>\n",
       "  <tbody>\n",
       "    <tr>\n",
       "      <th>count</th>\n",
       "      <td>10.000000</td>\n",
       "      <td>10.000000</td>\n",
       "      <td>9.000000</td>\n",
       "    </tr>\n",
       "    <tr>\n",
       "      <th>mean</th>\n",
       "      <td>46.306000</td>\n",
       "      <td>6853.500000</td>\n",
       "      <td>13094.444444</td>\n",
       "    </tr>\n",
       "    <tr>\n",
       "      <th>std</th>\n",
       "      <td>4.493574</td>\n",
       "      <td>681.391428</td>\n",
       "      <td>942.511686</td>\n",
       "    </tr>\n",
       "    <tr>\n",
       "      <th>min</th>\n",
       "      <td>39.070000</td>\n",
       "      <td>5956.000000</td>\n",
       "      <td>11579.000000</td>\n",
       "    </tr>\n",
       "    <tr>\n",
       "      <th>25%</th>\n",
       "      <td>42.842500</td>\n",
       "      <td>6250.000000</td>\n",
       "      <td>12593.000000</td>\n",
       "    </tr>\n",
       "    <tr>\n",
       "      <th>50%</th>\n",
       "      <td>47.435000</td>\n",
       "      <td>6744.000000</td>\n",
       "      <td>13169.000000</td>\n",
       "    </tr>\n",
       "    <tr>\n",
       "      <th>75%</th>\n",
       "      <td>49.707500</td>\n",
       "      <td>7466.500000</td>\n",
       "      <td>13967.000000</td>\n",
       "    </tr>\n",
       "    <tr>\n",
       "      <th>max</th>\n",
       "      <td>52.480000</td>\n",
       "      <td>7869.000000</td>\n",
       "      <td>14329.000000</td>\n",
       "    </tr>\n",
       "  </tbody>\n",
       "</table>\n",
       "</div>"
      ],
      "text/plain": [
       "           MILES    ELEVATION         CUMUL\n",
       "count  10.000000    10.000000      9.000000\n",
       "mean   46.306000  6853.500000  13094.444444\n",
       "std     4.493574   681.391428    942.511686\n",
       "min    39.070000  5956.000000  11579.000000\n",
       "25%    42.842500  6250.000000  12593.000000\n",
       "50%    47.435000  6744.000000  13169.000000\n",
       "75%    49.707500  7466.500000  13967.000000\n",
       "max    52.480000  7869.000000  14329.000000"
      ]
     },
     "execution_count": 55,
     "metadata": {},
     "output_type": "execute_result"
    }
   ],
   "source": [
    "df.describe()"
   ]
  },
  {
   "cell_type": "markdown",
   "metadata": {},
   "source": [
    "Remember that basically each column of a DataFrame is a Series, so we can treat them as such:"
   ]
  },
  {
   "cell_type": "code",
   "execution_count": 56,
   "metadata": {},
   "outputs": [
    {
     "data": {
      "text/plain": [
       "    Bald Mountain                         1\n",
       "    Rogers Trail Junction                 1\n",
       "    Mules Ear Meadow                      1\n",
       "    Alexander Ridge Aid Station           1\n",
       "    Big Mountain Pass Aid Station         1\n",
       "    Alexander Springs                     1\n",
       "    Pence Point                           1\n",
       "    Railroad Bed                          1\n",
       "    Rogers Saddle                         1\n",
       "    Lambs Canyon Underpass Aid Station    1\n",
       "Name: LOCATION, dtype: int64"
      ]
     },
     "execution_count": 56,
     "metadata": {},
     "output_type": "execute_result"
    }
   ],
   "source": [
    "df.loc[:, 'LOCATION'].value_counts()"
   ]
  },
  {
   "cell_type": "markdown",
   "metadata": {},
   "source": [
    "The `.corr()` method is extra useful now; by default to gives us the *Pearson Correlation Coefficient* statistic for all the numerical columns in a DataFrame. The statistic is between -1 and 1, and describes the linear relationship between the variables:"
   ]
  },
  {
   "cell_type": "code",
   "execution_count": 57,
   "metadata": {},
   "outputs": [
    {
     "data": {
      "text/html": [
       "<div>\n",
       "<style scoped>\n",
       "    .dataframe tbody tr th:only-of-type {\n",
       "        vertical-align: middle;\n",
       "    }\n",
       "\n",
       "    .dataframe tbody tr th {\n",
       "        vertical-align: top;\n",
       "    }\n",
       "\n",
       "    .dataframe thead th {\n",
       "        text-align: right;\n",
       "    }\n",
       "</style>\n",
       "<table border=\"1\" class=\"dataframe\">\n",
       "  <thead>\n",
       "    <tr style=\"text-align: right;\">\n",
       "      <th></th>\n",
       "      <th>MILES</th>\n",
       "      <th>ELEVATION</th>\n",
       "      <th>CUMUL</th>\n",
       "    </tr>\n",
       "  </thead>\n",
       "  <tbody>\n",
       "    <tr>\n",
       "      <th>MILES</th>\n",
       "      <td>1.000000</td>\n",
       "      <td>-0.783780</td>\n",
       "      <td>0.986613</td>\n",
       "    </tr>\n",
       "    <tr>\n",
       "      <th>ELEVATION</th>\n",
       "      <td>-0.783780</td>\n",
       "      <td>1.000000</td>\n",
       "      <td>-0.674333</td>\n",
       "    </tr>\n",
       "    <tr>\n",
       "      <th>CUMUL</th>\n",
       "      <td>0.986613</td>\n",
       "      <td>-0.674333</td>\n",
       "      <td>1.000000</td>\n",
       "    </tr>\n",
       "  </tbody>\n",
       "</table>\n",
       "</div>"
      ],
      "text/plain": [
       "              MILES  ELEVATION     CUMUL\n",
       "MILES      1.000000  -0.783780  0.986613\n",
       "ELEVATION -0.783780   1.000000 -0.674333\n",
       "CUMUL      0.986613  -0.674333  1.000000"
      ]
     },
     "execution_count": 57,
     "metadata": {},
     "output_type": "execute_result"
    }
   ],
   "source": [
    "df.corr()"
   ]
  },
  {
   "cell_type": "markdown",
   "metadata": {},
   "source": [
    "### Plotting DataFrames\n",
    "\n",
    "Like Series objects, DataFrame also have the same plotting methods build-in that runs matplotlib underneath. The default behavior uses the index as the x values, and plot everynumerical columns:"
   ]
  },
  {
   "cell_type": "code",
   "execution_count": 58,
   "metadata": {},
   "outputs": [
    {
     "data": {
      "text/plain": [
       "<matplotlib.axes._subplots.AxesSubplot at 0x1a3f3e8b348>"
      ]
     },
     "execution_count": 58,
     "metadata": {},
     "output_type": "execute_result"
    },
    {
     "data": {
      "text/plain": [
       "<Figure size 432x288 with 0 Axes>"
      ]
     },
     "metadata": {},
     "output_type": "display_data"
    },
    {
     "data": {
      "image/png": "[encoded data removed]",
      "text/plain": [
       "<Figure size 432x288 with 1 Axes>"
      ]
     },
     "metadata": {
      "needs_background": "light"
     },
     "output_type": "display_data"
    }
   ],
   "source": [
    "import matplotlib.pyplot as plt\n",
    "\n",
    "fig = plt.figure()\n",
    "df.plot()"
   ]
  },
  {
   "cell_type": "markdown",
   "metadata": {},
   "source": [
    "Alternatively, we can make sure that each of the columns are plotted onto the same axis of the graph using subplots and referring to the `ax=` parameter:"
   ]
  },
  {
   "cell_type": "code",
   "execution_count": 59,
   "metadata": {},
   "outputs": [
    {
     "data": {
      "text/plain": [
       "<matplotlib.axes._subplots.AxesSubplot at 0x1a3f3e65a48>"
      ]
     },
     "execution_count": 59,
     "metadata": {},
     "output_type": "execute_result"
    },
    {
     "data": {
      "image/png": "[encoded data removed]",
      "text/plain": [
       "<Figure size 432x288 with 1 Axes>"
      ]
     },
     "metadata": {
      "needs_background": "light"
     },
     "output_type": "display_data"
    }
   ],
   "source": [
    "fig = plt.figure()\n",
    "ax = fig.add_subplot(111)\n",
    "df.plot(ax=ax)"
   ]
  },
  {
   "cell_type": "markdown",
   "metadata": {},
   "source": [
    "Because pandas runs matplotlib underneath the code, we can easily manipulate the plot to achieve better visualizations. For example:"
   ]
  },
  {
   "cell_type": "code",
   "execution_count": 60,
   "metadata": {},
   "outputs": [
    {
     "data": {
      "text/plain": [
       "Text(0, 0.5, 'Distance (miles)')"
      ]
     },
     "execution_count": 60,
     "metadata": {},
     "output_type": "execute_result"
    },
    {
     "data": {
      "image/png": "[encoded data removed]",
      "text/plain": [
       "<Figure size 432x288 with 2 Axes>"
      ]
     },
     "metadata": {
      "needs_background": "light"
     },
     "output_type": "display_data"
    }
   ],
   "source": [
    "fig = plt.figure()\n",
    "ax = fig.add_subplot(111)\n",
    "df.loc[:, ['CUMUL', 'ELEVATION']].plot(ax=ax)\n",
    "df.loc[:, 'MILES'].plot(secondary_y=True) # plot this column on a different y axis for visibility\n",
    "plt.legend(loc='right') # This will display the legend of the MILS plot in a different place\n",
    "ax.set_ylabel('Elevation (feet)')\n",
    "ax.right_ax.set_ylabel('Distance (miles)')"
   ]
  },
  {
   "cell_type": "markdown",
   "metadata": {},
   "source": [
    "Note that because pandas plots uses the index of a DataFrame as the default x-values, the current x-axis isn't very informative. We can remedy this by specifying the x-axis values:"
   ]
  },
  {
   "cell_type": "code",
   "execution_count": 61,
   "metadata": {},
   "outputs": [
    {
     "data": {
      "text/plain": [
       "Text(0, 0.5, 'Elevation (feet)')"
      ]
     },
     "execution_count": 61,
     "metadata": {},
     "output_type": "execute_result"
    },
    {
     "data": {
      "image/png": "[encoded data removed]",
      "text/plain": [
       "<Figure size 432x288 with 2 Axes>"
      ]
     },
     "metadata": {
      "needs_background": "light"
     },
     "output_type": "display_data"
    }
   ],
   "source": [
    "fig = plt.figure()\n",
    "ax = fig.add_subplot(111)\n",
    "df.plot(x='LOCATION', y=['ELEVATION', 'CUMUL'], ax=ax)\n",
    "df.plot(x='LOCATION', y='MILES', secondary_y=True, ax=ax)\n",
    "ax.set_ylabel('Elevation (feet)')\n",
    "ax.right_ax.set_ylabel('Distance (miles)')\n",
    "fig.autofmt_xdate() # Rotate x-axis labels for visibility\n",
    "ax.set_ylabel('Elevation (feet)')"
   ]
  },
  {
   "cell_type": "markdown",
   "metadata": {},
   "source": [
    "Or, we can plot elevation against the miles:"
   ]
  },
  {
   "cell_type": "code",
   "execution_count": 62,
   "metadata": {},
   "outputs": [
    {
     "data": {
      "text/plain": [
       "Text(0, 0.5, 'Elevation (feet)')"
      ]
     },
     "execution_count": 62,
     "metadata": {},
     "output_type": "execute_result"
    },
    {
     "data": {
      "image/png": "[encoded data removed]",
      "text/plain": [
       "<Figure size 432x288 with 1 Axes>"
      ]
     },
     "metadata": {
      "needs_background": "light"
     },
     "output_type": "display_data"
    }
   ],
   "source": [
    "fig = plt.figure()\n",
    "ax = fig.add_subplot(111)\n",
    "df.plot(x='MILES', y=['ELEVATION', 'CUMUL'], ax=ax)\n",
    "plt.legend(loc='best')\n",
    "ax.set_ylabel('Elevation (feet)')"
   ]
  },
  {
   "cell_type": "markdown",
   "metadata": {},
   "source": [
    "### Adding rows to a DataFrame\n",
    "\n",
    "There are a couple ways to add rows of data to a DataFrame. The `concat()` function combines two DataFrames:"
   ]
  },
  {
   "cell_type": "code",
   "execution_count": 64,
   "metadata": {},
   "outputs": [
    {
     "data": {
      "text/html": [
       "<div>\n",
       "<style scoped>\n",
       "    .dataframe tbody tr th:only-of-type {\n",
       "        vertical-align: middle;\n",
       "    }\n",
       "\n",
       "    .dataframe tbody tr th {\n",
       "        vertical-align: top;\n",
       "    }\n",
       "\n",
       "    .dataframe thead th {\n",
       "        text-align: right;\n",
       "    }\n",
       "</style>\n",
       "<table border=\"1\" class=\"dataframe\">\n",
       "  <thead>\n",
       "    <tr style=\"text-align: right;\">\n",
       "      <th></th>\n",
       "      <th>LOCATION</th>\n",
       "      <th>MILES</th>\n",
       "      <th>ELEVATION</th>\n",
       "      <th>CUMUL</th>\n",
       "      <th>% CUMUL GAIN</th>\n",
       "    </tr>\n",
       "  </thead>\n",
       "  <tbody>\n",
       "    <tr>\n",
       "      <th>0</th>\n",
       "      <td>Lambs Trail</td>\n",
       "      <td>54.14</td>\n",
       "      <td>6628</td>\n",
       "      <td>14805</td>\n",
       "      <td>56.0%</td>\n",
       "    </tr>\n",
       "  </tbody>\n",
       "</table>\n",
       "</div>"
      ],
      "text/plain": [
       "      LOCATION  MILES  ELEVATION  CUMUL % CUMUL GAIN\n",
       "0  Lambs Trail  54.14       6628  14805        56.0%"
      ]
     },
     "execution_count": 64,
     "metadata": {},
     "output_type": "execute_result"
    }
   ],
   "source": [
    "df2 = pd.DataFrame([('Lambs Trail', 54.14, 6628, 14805, '56.0%')],\n",
    "                  columns=['LOCATION', 'MILES', 'ELEVATION', 'CUMUL', '% CUMUL GAIN'])\n",
    "\n",
    "df2"
   ]
  },
  {
   "cell_type": "code",
   "execution_count": 65,
   "metadata": {},
   "outputs": [
    {
     "data": {
      "text/html": [
       "<div>\n",
       "<style scoped>\n",
       "    .dataframe tbody tr th:only-of-type {\n",
       "        vertical-align: middle;\n",
       "    }\n",
       "\n",
       "    .dataframe tbody tr th {\n",
       "        vertical-align: top;\n",
       "    }\n",
       "\n",
       "    .dataframe thead th {\n",
       "        text-align: right;\n",
       "    }\n",
       "</style>\n",
       "<table border=\"1\" class=\"dataframe\">\n",
       "  <thead>\n",
       "    <tr style=\"text-align: right;\">\n",
       "      <th></th>\n",
       "      <th>LOCATION</th>\n",
       "      <th>MILES</th>\n",
       "      <th>ELEVATION</th>\n",
       "      <th>CUMUL</th>\n",
       "      <th>% CUMUL GAIN</th>\n",
       "    </tr>\n",
       "  </thead>\n",
       "  <tbody>\n",
       "    <tr>\n",
       "      <th>0</th>\n",
       "      <td>Big Mountain Pass Aid Station</td>\n",
       "      <td>39.07</td>\n",
       "      <td>7432</td>\n",
       "      <td>11579.0</td>\n",
       "      <td>43.8%</td>\n",
       "    </tr>\n",
       "    <tr>\n",
       "      <th>1</th>\n",
       "      <td>Mules Ear Meadow</td>\n",
       "      <td>40.75</td>\n",
       "      <td>7478</td>\n",
       "      <td>12008.0</td>\n",
       "      <td>45.4%</td>\n",
       "    </tr>\n",
       "    <tr>\n",
       "      <th>2</th>\n",
       "      <td>Bald Mountain</td>\n",
       "      <td>42.46</td>\n",
       "      <td>7869</td>\n",
       "      <td>12593.0</td>\n",
       "      <td>47.6%</td>\n",
       "    </tr>\n",
       "    <tr>\n",
       "      <th>3</th>\n",
       "      <td>Pence Point</td>\n",
       "      <td>43.99</td>\n",
       "      <td>7521</td>\n",
       "      <td>12813.0</td>\n",
       "      <td>48.4%</td>\n",
       "    </tr>\n",
       "    <tr>\n",
       "      <th>4</th>\n",
       "      <td>Alexander Ridge Aid Station</td>\n",
       "      <td>46.90</td>\n",
       "      <td>6160</td>\n",
       "      <td>13169.0</td>\n",
       "      <td>49.8%</td>\n",
       "    </tr>\n",
       "    <tr>\n",
       "      <th>5</th>\n",
       "      <td>Alexander Springs</td>\n",
       "      <td>47.97</td>\n",
       "      <td>5956</td>\n",
       "      <td>13319.0</td>\n",
       "      <td>50.3%</td>\n",
       "    </tr>\n",
       "    <tr>\n",
       "      <th>6</th>\n",
       "      <td>Rogers Trail Junction</td>\n",
       "      <td>49.52</td>\n",
       "      <td>6698</td>\n",
       "      <td>13967.0</td>\n",
       "      <td>52.8%</td>\n",
       "    </tr>\n",
       "    <tr>\n",
       "      <th>7</th>\n",
       "      <td>Rogers Saddle</td>\n",
       "      <td>49.77</td>\n",
       "      <td>6790</td>\n",
       "      <td>14073.0</td>\n",
       "      <td>53.2%</td>\n",
       "    </tr>\n",
       "    <tr>\n",
       "      <th>8</th>\n",
       "      <td>Railroad Bed</td>\n",
       "      <td>50.15</td>\n",
       "      <td>6520</td>\n",
       "      <td>NaN</td>\n",
       "      <td>NaN</td>\n",
       "    </tr>\n",
       "    <tr>\n",
       "      <th>9</th>\n",
       "      <td>Lambs Canyon Underpass Aid Station</td>\n",
       "      <td>52.48</td>\n",
       "      <td>6111</td>\n",
       "      <td>14329.0</td>\n",
       "      <td>54.2%</td>\n",
       "    </tr>\n",
       "    <tr>\n",
       "      <th>0</th>\n",
       "      <td>Lambs Trail</td>\n",
       "      <td>54.14</td>\n",
       "      <td>6628</td>\n",
       "      <td>14805.0</td>\n",
       "      <td>56.0%</td>\n",
       "    </tr>\n",
       "  </tbody>\n",
       "</table>\n",
       "</div>"
      ],
      "text/plain": [
       "                                 LOCATION  MILES  ELEVATION    CUMUL  \\\n",
       "0           Big Mountain Pass Aid Station  39.07       7432  11579.0   \n",
       "1                        Mules Ear Meadow  40.75       7478  12008.0   \n",
       "2                           Bald Mountain  42.46       7869  12593.0   \n",
       "3                             Pence Point  43.99       7521  12813.0   \n",
       "4             Alexander Ridge Aid Station  46.90       6160  13169.0   \n",
       "5                       Alexander Springs  47.97       5956  13319.0   \n",
       "6                   Rogers Trail Junction  49.52       6698  13967.0   \n",
       "7                           Rogers Saddle  49.77       6790  14073.0   \n",
       "8                            Railroad Bed  50.15       6520      NaN   \n",
       "9      Lambs Canyon Underpass Aid Station  52.48       6111  14329.0   \n",
       "0                             Lambs Trail  54.14       6628  14805.0   \n",
       "\n",
       "  % CUMUL GAIN  \n",
       "0        43.8%  \n",
       "1        45.4%  \n",
       "2        47.6%  \n",
       "3        48.4%  \n",
       "4        49.8%  \n",
       "5        50.3%  \n",
       "6        52.8%  \n",
       "7        53.2%  \n",
       "8          NaN  \n",
       "9        54.2%  \n",
       "0        56.0%  "
      ]
     },
     "execution_count": 65,
     "metadata": {},
     "output_type": "execute_result"
    }
   ],
   "source": [
    "pd.concat([df, df2]) # Note that as is usual with pandas methods, this will not modify the original data."
   ]
  },
  {
   "cell_type": "markdown",
   "metadata": {},
   "source": [
    "Note the quirk with the combined index. The `concat()` function will preserve the original index values unless we tell it not to:"
   ]
  },
  {
   "cell_type": "code",
   "execution_count": 66,
   "metadata": {},
   "outputs": [
    {
     "data": {
      "text/html": [
       "<div>\n",
       "<style scoped>\n",
       "    .dataframe tbody tr th:only-of-type {\n",
       "        vertical-align: middle;\n",
       "    }\n",
       "\n",
       "    .dataframe tbody tr th {\n",
       "        vertical-align: top;\n",
       "    }\n",
       "\n",
       "    .dataframe thead th {\n",
       "        text-align: right;\n",
       "    }\n",
       "</style>\n",
       "<table border=\"1\" class=\"dataframe\">\n",
       "  <thead>\n",
       "    <tr style=\"text-align: right;\">\n",
       "      <th></th>\n",
       "      <th>LOCATION</th>\n",
       "      <th>MILES</th>\n",
       "      <th>ELEVATION</th>\n",
       "      <th>CUMUL</th>\n",
       "      <th>% CUMUL GAIN</th>\n",
       "    </tr>\n",
       "  </thead>\n",
       "  <tbody>\n",
       "    <tr>\n",
       "      <th>0</th>\n",
       "      <td>Big Mountain Pass Aid Station</td>\n",
       "      <td>39.07</td>\n",
       "      <td>7432</td>\n",
       "      <td>11579.0</td>\n",
       "      <td>43.8%</td>\n",
       "    </tr>\n",
       "    <tr>\n",
       "      <th>1</th>\n",
       "      <td>Mules Ear Meadow</td>\n",
       "      <td>40.75</td>\n",
       "      <td>7478</td>\n",
       "      <td>12008.0</td>\n",
       "      <td>45.4%</td>\n",
       "    </tr>\n",
       "    <tr>\n",
       "      <th>2</th>\n",
       "      <td>Bald Mountain</td>\n",
       "      <td>42.46</td>\n",
       "      <td>7869</td>\n",
       "      <td>12593.0</td>\n",
       "      <td>47.6%</td>\n",
       "    </tr>\n",
       "    <tr>\n",
       "      <th>3</th>\n",
       "      <td>Pence Point</td>\n",
       "      <td>43.99</td>\n",
       "      <td>7521</td>\n",
       "      <td>12813.0</td>\n",
       "      <td>48.4%</td>\n",
       "    </tr>\n",
       "    <tr>\n",
       "      <th>4</th>\n",
       "      <td>Alexander Ridge Aid Station</td>\n",
       "      <td>46.90</td>\n",
       "      <td>6160</td>\n",
       "      <td>13169.0</td>\n",
       "      <td>49.8%</td>\n",
       "    </tr>\n",
       "    <tr>\n",
       "      <th>5</th>\n",
       "      <td>Alexander Springs</td>\n",
       "      <td>47.97</td>\n",
       "      <td>5956</td>\n",
       "      <td>13319.0</td>\n",
       "      <td>50.3%</td>\n",
       "    </tr>\n",
       "    <tr>\n",
       "      <th>6</th>\n",
       "      <td>Rogers Trail Junction</td>\n",
       "      <td>49.52</td>\n",
       "      <td>6698</td>\n",
       "      <td>13967.0</td>\n",
       "      <td>52.8%</td>\n",
       "    </tr>\n",
       "    <tr>\n",
       "      <th>7</th>\n",
       "      <td>Rogers Saddle</td>\n",
       "      <td>49.77</td>\n",
       "      <td>6790</td>\n",
       "      <td>14073.0</td>\n",
       "      <td>53.2%</td>\n",
       "    </tr>\n",
       "    <tr>\n",
       "      <th>8</th>\n",
       "      <td>Railroad Bed</td>\n",
       "      <td>50.15</td>\n",
       "      <td>6520</td>\n",
       "      <td>NaN</td>\n",
       "      <td>NaN</td>\n",
       "    </tr>\n",
       "    <tr>\n",
       "      <th>9</th>\n",
       "      <td>Lambs Canyon Underpass Aid Station</td>\n",
       "      <td>52.48</td>\n",
       "      <td>6111</td>\n",
       "      <td>14329.0</td>\n",
       "      <td>54.2%</td>\n",
       "    </tr>\n",
       "    <tr>\n",
       "      <th>10</th>\n",
       "      <td>Lambs Trail</td>\n",
       "      <td>54.14</td>\n",
       "      <td>6628</td>\n",
       "      <td>14805.0</td>\n",
       "      <td>56.0%</td>\n",
       "    </tr>\n",
       "  </tbody>\n",
       "</table>\n",
       "</div>"
      ],
      "text/plain": [
       "                                  LOCATION  MILES  ELEVATION    CUMUL  \\\n",
       "0            Big Mountain Pass Aid Station  39.07       7432  11579.0   \n",
       "1                         Mules Ear Meadow  40.75       7478  12008.0   \n",
       "2                            Bald Mountain  42.46       7869  12593.0   \n",
       "3                              Pence Point  43.99       7521  12813.0   \n",
       "4              Alexander Ridge Aid Station  46.90       6160  13169.0   \n",
       "5                        Alexander Springs  47.97       5956  13319.0   \n",
       "6                    Rogers Trail Junction  49.52       6698  13967.0   \n",
       "7                            Rogers Saddle  49.77       6790  14073.0   \n",
       "8                             Railroad Bed  50.15       6520      NaN   \n",
       "9       Lambs Canyon Underpass Aid Station  52.48       6111  14329.0   \n",
       "10                             Lambs Trail  54.14       6628  14805.0   \n",
       "\n",
       "   % CUMUL GAIN  \n",
       "0         43.8%  \n",
       "1         45.4%  \n",
       "2         47.6%  \n",
       "3         48.4%  \n",
       "4         49.8%  \n",
       "5         50.3%  \n",
       "6         52.8%  \n",
       "7         53.2%  \n",
       "8           NaN  \n",
       "9         54.2%  \n",
       "10        56.0%  "
      ]
     },
     "execution_count": 66,
     "metadata": {},
     "output_type": "execute_result"
    }
   ],
   "source": [
    "df = pd.concat([df, df2], ignore_index=True)\n",
    "\n",
    "df"
   ]
  },
  {
   "cell_type": "markdown",
   "metadata": {},
   "source": [
    "Note that `append()` is a function that's a specifc case of `.concat()`; `append()` assumes you are adding rows, and the joining is an \"outer\" join.\n",
    "\n",
    "To add a column, this is similar to base Python dictionaries; you can simily assign a Series to a new column name (using `.loc()` whenever possible):"
   ]
  },
  {
   "cell_type": "code",
   "execution_count": 76,
   "metadata": {},
   "outputs": [
    {
     "data": {
      "text/html": [
       "<div>\n",
       "<style scoped>\n",
       "    .dataframe tbody tr th:only-of-type {\n",
       "        vertical-align: middle;\n",
       "    }\n",
       "\n",
       "    .dataframe tbody tr th {\n",
       "        vertical-align: top;\n",
       "    }\n",
       "\n",
       "    .dataframe thead th {\n",
       "        text-align: right;\n",
       "    }\n",
       "</style>\n",
       "<table border=\"1\" class=\"dataframe\">\n",
       "  <thead>\n",
       "    <tr style=\"text-align: right;\">\n",
       "      <th></th>\n",
       "      <th>LOCATION</th>\n",
       "      <th>MILES</th>\n",
       "      <th>ELEVATION</th>\n",
       "      <th>CUMUL</th>\n",
       "      <th>% CUMUL GAIN</th>\n",
       "      <th>STATION</th>\n",
       "      <th>bogus</th>\n",
       "    </tr>\n",
       "  </thead>\n",
       "  <tbody>\n",
       "    <tr>\n",
       "      <th>0</th>\n",
       "      <td>Big Mountain Pass Aid Station</td>\n",
       "      <td>39.07</td>\n",
       "      <td>7432</td>\n",
       "      <td>11579.0</td>\n",
       "      <td>43.8%</td>\n",
       "      <td>True</td>\n",
       "      <td>0</td>\n",
       "    </tr>\n",
       "    <tr>\n",
       "      <th>1</th>\n",
       "      <td>Mules Ear Meadow</td>\n",
       "      <td>40.75</td>\n",
       "      <td>7478</td>\n",
       "      <td>12008.0</td>\n",
       "      <td>45.4%</td>\n",
       "      <td>False</td>\n",
       "      <td>1</td>\n",
       "    </tr>\n",
       "    <tr>\n",
       "      <th>2</th>\n",
       "      <td>Bald Mountain</td>\n",
       "      <td>42.46</td>\n",
       "      <td>7869</td>\n",
       "      <td>12593.0</td>\n",
       "      <td>47.6%</td>\n",
       "      <td>False</td>\n",
       "      <td>2</td>\n",
       "    </tr>\n",
       "    <tr>\n",
       "      <th>3</th>\n",
       "      <td>Pence Point</td>\n",
       "      <td>43.99</td>\n",
       "      <td>7521</td>\n",
       "      <td>12813.0</td>\n",
       "      <td>48.4%</td>\n",
       "      <td>False</td>\n",
       "      <td>3</td>\n",
       "    </tr>\n",
       "    <tr>\n",
       "      <th>4</th>\n",
       "      <td>Alexander Ridge Aid Station</td>\n",
       "      <td>46.90</td>\n",
       "      <td>6160</td>\n",
       "      <td>13169.0</td>\n",
       "      <td>49.8%</td>\n",
       "      <td>True</td>\n",
       "      <td>4</td>\n",
       "    </tr>\n",
       "    <tr>\n",
       "      <th>5</th>\n",
       "      <td>Alexander Springs</td>\n",
       "      <td>47.97</td>\n",
       "      <td>5956</td>\n",
       "      <td>13319.0</td>\n",
       "      <td>50.3%</td>\n",
       "      <td>False</td>\n",
       "      <td>5</td>\n",
       "    </tr>\n",
       "    <tr>\n",
       "      <th>6</th>\n",
       "      <td>Rogers Trail Junction</td>\n",
       "      <td>49.52</td>\n",
       "      <td>6698</td>\n",
       "      <td>13967.0</td>\n",
       "      <td>52.8%</td>\n",
       "      <td>False</td>\n",
       "      <td>6</td>\n",
       "    </tr>\n",
       "    <tr>\n",
       "      <th>7</th>\n",
       "      <td>Rogers Saddle</td>\n",
       "      <td>49.77</td>\n",
       "      <td>6790</td>\n",
       "      <td>14073.0</td>\n",
       "      <td>53.2%</td>\n",
       "      <td>False</td>\n",
       "      <td>7</td>\n",
       "    </tr>\n",
       "    <tr>\n",
       "      <th>8</th>\n",
       "      <td>Railroad Bed</td>\n",
       "      <td>50.15</td>\n",
       "      <td>6520</td>\n",
       "      <td>NaN</td>\n",
       "      <td>NaN</td>\n",
       "      <td>False</td>\n",
       "      <td>8</td>\n",
       "    </tr>\n",
       "    <tr>\n",
       "      <th>9</th>\n",
       "      <td>Lambs Canyon Underpass Aid Station</td>\n",
       "      <td>52.48</td>\n",
       "      <td>6111</td>\n",
       "      <td>14329.0</td>\n",
       "      <td>54.2%</td>\n",
       "      <td>True</td>\n",
       "      <td>9</td>\n",
       "    </tr>\n",
       "    <tr>\n",
       "      <th>10</th>\n",
       "      <td>Lambs Trail</td>\n",
       "      <td>54.14</td>\n",
       "      <td>6628</td>\n",
       "      <td>14805.0</td>\n",
       "      <td>56.0%</td>\n",
       "      <td>False</td>\n",
       "      <td>10</td>\n",
       "    </tr>\n",
       "  </tbody>\n",
       "</table>\n",
       "</div>"
      ],
      "text/plain": [
       "                                  LOCATION  MILES  ELEVATION    CUMUL  \\\n",
       "0            Big Mountain Pass Aid Station  39.07       7432  11579.0   \n",
       "1                         Mules Ear Meadow  40.75       7478  12008.0   \n",
       "2                            Bald Mountain  42.46       7869  12593.0   \n",
       "3                              Pence Point  43.99       7521  12813.0   \n",
       "4              Alexander Ridge Aid Station  46.90       6160  13169.0   \n",
       "5                        Alexander Springs  47.97       5956  13319.0   \n",
       "6                    Rogers Trail Junction  49.52       6698  13967.0   \n",
       "7                            Rogers Saddle  49.77       6790  14073.0   \n",
       "8                             Railroad Bed  50.15       6520      NaN   \n",
       "9       Lambs Canyon Underpass Aid Station  52.48       6111  14329.0   \n",
       "10                             Lambs Trail  54.14       6628  14805.0   \n",
       "\n",
       "   % CUMUL GAIN  STATION  bogus  \n",
       "0         43.8%     True      0  \n",
       "1         45.4%    False      1  \n",
       "2         47.6%    False      2  \n",
       "3         48.4%    False      3  \n",
       "4         49.8%     True      4  \n",
       "5         50.3%    False      5  \n",
       "6         52.8%    False      6  \n",
       "7         53.2%    False      7  \n",
       "8           NaN    False      8  \n",
       "9         54.2%     True      9  \n",
       "10        56.0%    False     10  "
      ]
     },
     "execution_count": 76,
     "metadata": {},
     "output_type": "execute_result"
    }
   ],
   "source": [
    "df.loc[:, 'bogus'] = pd.Series(range(11)) \n",
    "\n",
    "df"
   ]
  },
  {
   "cell_type": "markdown",
   "metadata": {},
   "source": [
    "We can do something even more complex. For example, let's add a column called \"STATION\", which will indicate whether or not the location has an aid station. We can determine this by the occurrence of \"Station\" in the \"LOCATION\" column:"
   ]
  },
  {
   "cell_type": "code",
   "execution_count": 69,
   "metadata": {},
   "outputs": [
    {
     "data": {
      "text/html": [
       "<div>\n",
       "<style scoped>\n",
       "    .dataframe tbody tr th:only-of-type {\n",
       "        vertical-align: middle;\n",
       "    }\n",
       "\n",
       "    .dataframe tbody tr th {\n",
       "        vertical-align: top;\n",
       "    }\n",
       "\n",
       "    .dataframe thead th {\n",
       "        text-align: right;\n",
       "    }\n",
       "</style>\n",
       "<table border=\"1\" class=\"dataframe\">\n",
       "  <thead>\n",
       "    <tr style=\"text-align: right;\">\n",
       "      <th></th>\n",
       "      <th>LOCATION</th>\n",
       "      <th>MILES</th>\n",
       "      <th>ELEVATION</th>\n",
       "      <th>CUMUL</th>\n",
       "      <th>% CUMUL GAIN</th>\n",
       "      <th>bogus</th>\n",
       "      <th>STATION</th>\n",
       "    </tr>\n",
       "  </thead>\n",
       "  <tbody>\n",
       "    <tr>\n",
       "      <th>0</th>\n",
       "      <td>Big Mountain Pass Aid Station</td>\n",
       "      <td>39.07</td>\n",
       "      <td>7432</td>\n",
       "      <td>11579.0</td>\n",
       "      <td>43.8%</td>\n",
       "      <td>0</td>\n",
       "      <td>True</td>\n",
       "    </tr>\n",
       "    <tr>\n",
       "      <th>1</th>\n",
       "      <td>Mules Ear Meadow</td>\n",
       "      <td>40.75</td>\n",
       "      <td>7478</td>\n",
       "      <td>12008.0</td>\n",
       "      <td>45.4%</td>\n",
       "      <td>1</td>\n",
       "      <td>False</td>\n",
       "    </tr>\n",
       "    <tr>\n",
       "      <th>2</th>\n",
       "      <td>Bald Mountain</td>\n",
       "      <td>42.46</td>\n",
       "      <td>7869</td>\n",
       "      <td>12593.0</td>\n",
       "      <td>47.6%</td>\n",
       "      <td>2</td>\n",
       "      <td>False</td>\n",
       "    </tr>\n",
       "    <tr>\n",
       "      <th>3</th>\n",
       "      <td>Pence Point</td>\n",
       "      <td>43.99</td>\n",
       "      <td>7521</td>\n",
       "      <td>12813.0</td>\n",
       "      <td>48.4%</td>\n",
       "      <td>3</td>\n",
       "      <td>False</td>\n",
       "    </tr>\n",
       "    <tr>\n",
       "      <th>4</th>\n",
       "      <td>Alexander Ridge Aid Station</td>\n",
       "      <td>46.90</td>\n",
       "      <td>6160</td>\n",
       "      <td>13169.0</td>\n",
       "      <td>49.8%</td>\n",
       "      <td>4</td>\n",
       "      <td>True</td>\n",
       "    </tr>\n",
       "    <tr>\n",
       "      <th>5</th>\n",
       "      <td>Alexander Springs</td>\n",
       "      <td>47.97</td>\n",
       "      <td>5956</td>\n",
       "      <td>13319.0</td>\n",
       "      <td>50.3%</td>\n",
       "      <td>5</td>\n",
       "      <td>False</td>\n",
       "    </tr>\n",
       "    <tr>\n",
       "      <th>6</th>\n",
       "      <td>Rogers Trail Junction</td>\n",
       "      <td>49.52</td>\n",
       "      <td>6698</td>\n",
       "      <td>13967.0</td>\n",
       "      <td>52.8%</td>\n",
       "      <td>6</td>\n",
       "      <td>False</td>\n",
       "    </tr>\n",
       "    <tr>\n",
       "      <th>7</th>\n",
       "      <td>Rogers Saddle</td>\n",
       "      <td>49.77</td>\n",
       "      <td>6790</td>\n",
       "      <td>14073.0</td>\n",
       "      <td>53.2%</td>\n",
       "      <td>7</td>\n",
       "      <td>False</td>\n",
       "    </tr>\n",
       "    <tr>\n",
       "      <th>8</th>\n",
       "      <td>Railroad Bed</td>\n",
       "      <td>50.15</td>\n",
       "      <td>6520</td>\n",
       "      <td>NaN</td>\n",
       "      <td>NaN</td>\n",
       "      <td>8</td>\n",
       "      <td>False</td>\n",
       "    </tr>\n",
       "    <tr>\n",
       "      <th>9</th>\n",
       "      <td>Lambs Canyon Underpass Aid Station</td>\n",
       "      <td>52.48</td>\n",
       "      <td>6111</td>\n",
       "      <td>14329.0</td>\n",
       "      <td>54.2%</td>\n",
       "      <td>9</td>\n",
       "      <td>True</td>\n",
       "    </tr>\n",
       "    <tr>\n",
       "      <th>10</th>\n",
       "      <td>Lambs Trail</td>\n",
       "      <td>54.14</td>\n",
       "      <td>6628</td>\n",
       "      <td>14805.0</td>\n",
       "      <td>56.0%</td>\n",
       "      <td>10</td>\n",
       "      <td>False</td>\n",
       "    </tr>\n",
       "  </tbody>\n",
       "</table>\n",
       "</div>"
      ],
      "text/plain": [
       "                                  LOCATION  MILES  ELEVATION    CUMUL  \\\n",
       "0            Big Mountain Pass Aid Station  39.07       7432  11579.0   \n",
       "1                         Mules Ear Meadow  40.75       7478  12008.0   \n",
       "2                            Bald Mountain  42.46       7869  12593.0   \n",
       "3                              Pence Point  43.99       7521  12813.0   \n",
       "4              Alexander Ridge Aid Station  46.90       6160  13169.0   \n",
       "5                        Alexander Springs  47.97       5956  13319.0   \n",
       "6                    Rogers Trail Junction  49.52       6698  13967.0   \n",
       "7                            Rogers Saddle  49.77       6790  14073.0   \n",
       "8                             Railroad Bed  50.15       6520      NaN   \n",
       "9       Lambs Canyon Underpass Aid Station  52.48       6111  14329.0   \n",
       "10                             Lambs Trail  54.14       6628  14805.0   \n",
       "\n",
       "   % CUMUL GAIN  bogus  STATION  \n",
       "0         43.8%      0     True  \n",
       "1         45.4%      1    False  \n",
       "2         47.6%      2    False  \n",
       "3         48.4%      3    False  \n",
       "4         49.8%      4     True  \n",
       "5         50.3%      5    False  \n",
       "6         52.8%      6    False  \n",
       "7         53.2%      7    False  \n",
       "8           NaN      8    False  \n",
       "9         54.2%      9     True  \n",
       "10        56.0%     10    False  "
      ]
     },
     "execution_count": 69,
     "metadata": {},
     "output_type": "execute_result"
    }
   ],
   "source": [
    "def aid_station(val):\n",
    "    return 'Station' in val\n",
    "\n",
    "df.loc[:, 'STATION'] = df['LOCATION'].apply(aid_station)\n",
    "\n",
    "df"
   ]
  },
  {
   "cell_type": "markdown",
   "metadata": {},
   "source": [
    "### Deleting Rows\n",
    "\n",
    "We can use the method `.drop()` to delete rows. Note that this will not work in place unless you tell pandas to do so; by default it will return a new DataFrame:"
   ]
  },
  {
   "cell_type": "code",
   "execution_count": 70,
   "metadata": {},
   "outputs": [
    {
     "data": {
      "text/html": [
       "<div>\n",
       "<style scoped>\n",
       "    .dataframe tbody tr th:only-of-type {\n",
       "        vertical-align: middle;\n",
       "    }\n",
       "\n",
       "    .dataframe tbody tr th {\n",
       "        vertical-align: top;\n",
       "    }\n",
       "\n",
       "    .dataframe thead th {\n",
       "        text-align: right;\n",
       "    }\n",
       "</style>\n",
       "<table border=\"1\" class=\"dataframe\">\n",
       "  <thead>\n",
       "    <tr style=\"text-align: right;\">\n",
       "      <th></th>\n",
       "      <th>LOCATION</th>\n",
       "      <th>MILES</th>\n",
       "      <th>ELEVATION</th>\n",
       "      <th>CUMUL</th>\n",
       "      <th>% CUMUL GAIN</th>\n",
       "      <th>bogus</th>\n",
       "      <th>STATION</th>\n",
       "    </tr>\n",
       "  </thead>\n",
       "  <tbody>\n",
       "    <tr>\n",
       "      <th>0</th>\n",
       "      <td>Big Mountain Pass Aid Station</td>\n",
       "      <td>39.07</td>\n",
       "      <td>7432</td>\n",
       "      <td>11579.0</td>\n",
       "      <td>43.8%</td>\n",
       "      <td>0</td>\n",
       "      <td>True</td>\n",
       "    </tr>\n",
       "    <tr>\n",
       "      <th>1</th>\n",
       "      <td>Mules Ear Meadow</td>\n",
       "      <td>40.75</td>\n",
       "      <td>7478</td>\n",
       "      <td>12008.0</td>\n",
       "      <td>45.4%</td>\n",
       "      <td>1</td>\n",
       "      <td>False</td>\n",
       "    </tr>\n",
       "    <tr>\n",
       "      <th>2</th>\n",
       "      <td>Bald Mountain</td>\n",
       "      <td>42.46</td>\n",
       "      <td>7869</td>\n",
       "      <td>12593.0</td>\n",
       "      <td>47.6%</td>\n",
       "      <td>2</td>\n",
       "      <td>False</td>\n",
       "    </tr>\n",
       "    <tr>\n",
       "      <th>3</th>\n",
       "      <td>Pence Point</td>\n",
       "      <td>43.99</td>\n",
       "      <td>7521</td>\n",
       "      <td>12813.0</td>\n",
       "      <td>48.4%</td>\n",
       "      <td>3</td>\n",
       "      <td>False</td>\n",
       "    </tr>\n",
       "    <tr>\n",
       "      <th>4</th>\n",
       "      <td>Alexander Ridge Aid Station</td>\n",
       "      <td>46.90</td>\n",
       "      <td>6160</td>\n",
       "      <td>13169.0</td>\n",
       "      <td>49.8%</td>\n",
       "      <td>4</td>\n",
       "      <td>True</td>\n",
       "    </tr>\n",
       "    <tr>\n",
       "      <th>6</th>\n",
       "      <td>Rogers Trail Junction</td>\n",
       "      <td>49.52</td>\n",
       "      <td>6698</td>\n",
       "      <td>13967.0</td>\n",
       "      <td>52.8%</td>\n",
       "      <td>6</td>\n",
       "      <td>False</td>\n",
       "    </tr>\n",
       "    <tr>\n",
       "      <th>7</th>\n",
       "      <td>Rogers Saddle</td>\n",
       "      <td>49.77</td>\n",
       "      <td>6790</td>\n",
       "      <td>14073.0</td>\n",
       "      <td>53.2%</td>\n",
       "      <td>7</td>\n",
       "      <td>False</td>\n",
       "    </tr>\n",
       "    <tr>\n",
       "      <th>8</th>\n",
       "      <td>Railroad Bed</td>\n",
       "      <td>50.15</td>\n",
       "      <td>6520</td>\n",
       "      <td>NaN</td>\n",
       "      <td>NaN</td>\n",
       "      <td>8</td>\n",
       "      <td>False</td>\n",
       "    </tr>\n",
       "    <tr>\n",
       "      <th>10</th>\n",
       "      <td>Lambs Trail</td>\n",
       "      <td>54.14</td>\n",
       "      <td>6628</td>\n",
       "      <td>14805.0</td>\n",
       "      <td>56.0%</td>\n",
       "      <td>10</td>\n",
       "      <td>False</td>\n",
       "    </tr>\n",
       "  </tbody>\n",
       "</table>\n",
       "</div>"
      ],
      "text/plain": [
       "                             LOCATION  MILES  ELEVATION    CUMUL % CUMUL GAIN  \\\n",
       "0       Big Mountain Pass Aid Station  39.07       7432  11579.0        43.8%   \n",
       "1                    Mules Ear Meadow  40.75       7478  12008.0        45.4%   \n",
       "2                       Bald Mountain  42.46       7869  12593.0        47.6%   \n",
       "3                         Pence Point  43.99       7521  12813.0        48.4%   \n",
       "4         Alexander Ridge Aid Station  46.90       6160  13169.0        49.8%   \n",
       "6               Rogers Trail Junction  49.52       6698  13967.0        52.8%   \n",
       "7                       Rogers Saddle  49.77       6790  14073.0        53.2%   \n",
       "8                        Railroad Bed  50.15       6520      NaN          NaN   \n",
       "10                        Lambs Trail  54.14       6628  14805.0        56.0%   \n",
       "\n",
       "    bogus  STATION  \n",
       "0       0     True  \n",
       "1       1    False  \n",
       "2       2    False  \n",
       "3       3    False  \n",
       "4       4     True  \n",
       "6       6    False  \n",
       "7       7    False  \n",
       "8       8    False  \n",
       "10     10    False  "
      ]
     },
     "execution_count": 70,
     "metadata": {},
     "output_type": "execute_result"
    }
   ],
   "source": [
    "df.drop([5, 9]) # .drop() deletes row via index"
   ]
  },
  {
   "cell_type": "code",
   "execution_count": 72,
   "metadata": {},
   "outputs": [
    {
     "data": {
      "text/html": [
       "<div>\n",
       "<style scoped>\n",
       "    .dataframe tbody tr th:only-of-type {\n",
       "        vertical-align: middle;\n",
       "    }\n",
       "\n",
       "    .dataframe tbody tr th {\n",
       "        vertical-align: top;\n",
       "    }\n",
       "\n",
       "    .dataframe thead th {\n",
       "        text-align: right;\n",
       "    }\n",
       "</style>\n",
       "<table border=\"1\" class=\"dataframe\">\n",
       "  <thead>\n",
       "    <tr style=\"text-align: right;\">\n",
       "      <th></th>\n",
       "      <th>LOCATION</th>\n",
       "      <th>MILES</th>\n",
       "      <th>ELEVATION</th>\n",
       "      <th>CUMUL</th>\n",
       "      <th>% CUMUL GAIN</th>\n",
       "      <th>bogus</th>\n",
       "      <th>STATION</th>\n",
       "    </tr>\n",
       "  </thead>\n",
       "  <tbody>\n",
       "    <tr>\n",
       "      <th>0</th>\n",
       "      <td>Big Mountain Pass Aid Station</td>\n",
       "      <td>39.07</td>\n",
       "      <td>7432</td>\n",
       "      <td>11579.0</td>\n",
       "      <td>43.8%</td>\n",
       "      <td>0</td>\n",
       "      <td>True</td>\n",
       "    </tr>\n",
       "    <tr>\n",
       "      <th>1</th>\n",
       "      <td>Mules Ear Meadow</td>\n",
       "      <td>40.75</td>\n",
       "      <td>7478</td>\n",
       "      <td>12008.0</td>\n",
       "      <td>45.4%</td>\n",
       "      <td>1</td>\n",
       "      <td>False</td>\n",
       "    </tr>\n",
       "    <tr>\n",
       "      <th>2</th>\n",
       "      <td>Bald Mountain</td>\n",
       "      <td>42.46</td>\n",
       "      <td>7869</td>\n",
       "      <td>12593.0</td>\n",
       "      <td>47.6%</td>\n",
       "      <td>2</td>\n",
       "      <td>False</td>\n",
       "    </tr>\n",
       "    <tr>\n",
       "      <th>3</th>\n",
       "      <td>Pence Point</td>\n",
       "      <td>43.99</td>\n",
       "      <td>7521</td>\n",
       "      <td>12813.0</td>\n",
       "      <td>48.4%</td>\n",
       "      <td>3</td>\n",
       "      <td>False</td>\n",
       "    </tr>\n",
       "    <tr>\n",
       "      <th>4</th>\n",
       "      <td>Alexander Ridge Aid Station</td>\n",
       "      <td>46.90</td>\n",
       "      <td>6160</td>\n",
       "      <td>13169.0</td>\n",
       "      <td>49.8%</td>\n",
       "      <td>4</td>\n",
       "      <td>True</td>\n",
       "    </tr>\n",
       "    <tr>\n",
       "      <th>6</th>\n",
       "      <td>Rogers Trail Junction</td>\n",
       "      <td>49.52</td>\n",
       "      <td>6698</td>\n",
       "      <td>13967.0</td>\n",
       "      <td>52.8%</td>\n",
       "      <td>6</td>\n",
       "      <td>False</td>\n",
       "    </tr>\n",
       "    <tr>\n",
       "      <th>7</th>\n",
       "      <td>Rogers Saddle</td>\n",
       "      <td>49.77</td>\n",
       "      <td>6790</td>\n",
       "      <td>14073.0</td>\n",
       "      <td>53.2%</td>\n",
       "      <td>7</td>\n",
       "      <td>False</td>\n",
       "    </tr>\n",
       "    <tr>\n",
       "      <th>8</th>\n",
       "      <td>Railroad Bed</td>\n",
       "      <td>50.15</td>\n",
       "      <td>6520</td>\n",
       "      <td>NaN</td>\n",
       "      <td>NaN</td>\n",
       "      <td>8</td>\n",
       "      <td>False</td>\n",
       "    </tr>\n",
       "    <tr>\n",
       "      <th>10</th>\n",
       "      <td>Lambs Trail</td>\n",
       "      <td>54.14</td>\n",
       "      <td>6628</td>\n",
       "      <td>14805.0</td>\n",
       "      <td>56.0%</td>\n",
       "      <td>10</td>\n",
       "      <td>False</td>\n",
       "    </tr>\n",
       "  </tbody>\n",
       "</table>\n",
       "</div>"
      ],
      "text/plain": [
       "                             LOCATION  MILES  ELEVATION    CUMUL % CUMUL GAIN  \\\n",
       "0       Big Mountain Pass Aid Station  39.07       7432  11579.0        43.8%   \n",
       "1                    Mules Ear Meadow  40.75       7478  12008.0        45.4%   \n",
       "2                       Bald Mountain  42.46       7869  12593.0        47.6%   \n",
       "3                         Pence Point  43.99       7521  12813.0        48.4%   \n",
       "4         Alexander Ridge Aid Station  46.90       6160  13169.0        49.8%   \n",
       "6               Rogers Trail Junction  49.52       6698  13967.0        52.8%   \n",
       "7                       Rogers Saddle  49.77       6790  14073.0        53.2%   \n",
       "8                        Railroad Bed  50.15       6520      NaN          NaN   \n",
       "10                        Lambs Trail  54.14       6628  14805.0        56.0%   \n",
       "\n",
       "    bogus  STATION  \n",
       "0       0     True  \n",
       "1       1    False  \n",
       "2       2    False  \n",
       "3       3    False  \n",
       "4       4     True  \n",
       "6       6    False  \n",
       "7       7    False  \n",
       "8       8    False  \n",
       "10     10    False  "
      ]
     },
     "execution_count": 72,
     "metadata": {},
     "output_type": "execute_result"
    }
   ],
   "source": [
    "df.drop(df.index[5:10:4]) # Using the .index attribute gives us even more flexibility"
   ]
  },
  {
   "cell_type": "markdown",
   "metadata": {},
   "source": [
    "### Deleting Columns\n",
    "\n",
    "There are several options here. The `.pop()` method is one, or we can use `.drop()` again but speficy `axis=1`, or the `del` statement. Generally we should avoid using the `.pop()` method or the `del` statement in this manner as this modifies the original DataFrame, ulike `.drop(axis=1)`, which returns a new DataFrame."
   ]
  },
  {
   "cell_type": "code",
   "execution_count": 77,
   "metadata": {},
   "outputs": [
    {
     "data": {
      "text/plain": [
       "0      0\n",
       "1      1\n",
       "2      2\n",
       "3      3\n",
       "4      4\n",
       "5      5\n",
       "6      6\n",
       "7      7\n",
       "8      8\n",
       "9      9\n",
       "10    10\n",
       "Name: bogus, dtype: int64"
      ]
     },
     "execution_count": 77,
     "metadata": {},
     "output_type": "execute_result"
    }
   ],
   "source": [
    "bogus = df.pop('bogus') # the .pop() method here is very similar to the base Python methods for lists\n",
    "\n",
    "bogus"
   ]
  },
  {
   "cell_type": "code",
   "execution_count": 79,
   "metadata": {},
   "outputs": [
    {
     "data": {
      "text/html": [
       "<div>\n",
       "<style scoped>\n",
       "    .dataframe tbody tr th:only-of-type {\n",
       "        vertical-align: middle;\n",
       "    }\n",
       "\n",
       "    .dataframe tbody tr th {\n",
       "        vertical-align: top;\n",
       "    }\n",
       "\n",
       "    .dataframe thead th {\n",
       "        text-align: right;\n",
       "    }\n",
       "</style>\n",
       "<table border=\"1\" class=\"dataframe\">\n",
       "  <thead>\n",
       "    <tr style=\"text-align: right;\">\n",
       "      <th></th>\n",
       "      <th>LOCATION</th>\n",
       "      <th>MILES</th>\n",
       "      <th>ELEVATION</th>\n",
       "      <th>CUMUL</th>\n",
       "      <th>% CUMUL GAIN</th>\n",
       "      <th>STATION</th>\n",
       "    </tr>\n",
       "  </thead>\n",
       "  <tbody>\n",
       "    <tr>\n",
       "      <th>0</th>\n",
       "      <td>Big Mountain Pass Aid Station</td>\n",
       "      <td>39.07</td>\n",
       "      <td>7432</td>\n",
       "      <td>11579.0</td>\n",
       "      <td>43.8%</td>\n",
       "      <td>True</td>\n",
       "    </tr>\n",
       "    <tr>\n",
       "      <th>1</th>\n",
       "      <td>Mules Ear Meadow</td>\n",
       "      <td>40.75</td>\n",
       "      <td>7478</td>\n",
       "      <td>12008.0</td>\n",
       "      <td>45.4%</td>\n",
       "      <td>False</td>\n",
       "    </tr>\n",
       "    <tr>\n",
       "      <th>2</th>\n",
       "      <td>Bald Mountain</td>\n",
       "      <td>42.46</td>\n",
       "      <td>7869</td>\n",
       "      <td>12593.0</td>\n",
       "      <td>47.6%</td>\n",
       "      <td>False</td>\n",
       "    </tr>\n",
       "    <tr>\n",
       "      <th>3</th>\n",
       "      <td>Pence Point</td>\n",
       "      <td>43.99</td>\n",
       "      <td>7521</td>\n",
       "      <td>12813.0</td>\n",
       "      <td>48.4%</td>\n",
       "      <td>False</td>\n",
       "    </tr>\n",
       "    <tr>\n",
       "      <th>4</th>\n",
       "      <td>Alexander Ridge Aid Station</td>\n",
       "      <td>46.90</td>\n",
       "      <td>6160</td>\n",
       "      <td>13169.0</td>\n",
       "      <td>49.8%</td>\n",
       "      <td>True</td>\n",
       "    </tr>\n",
       "    <tr>\n",
       "      <th>5</th>\n",
       "      <td>Alexander Springs</td>\n",
       "      <td>47.97</td>\n",
       "      <td>5956</td>\n",
       "      <td>13319.0</td>\n",
       "      <td>50.3%</td>\n",
       "      <td>False</td>\n",
       "    </tr>\n",
       "    <tr>\n",
       "      <th>6</th>\n",
       "      <td>Rogers Trail Junction</td>\n",
       "      <td>49.52</td>\n",
       "      <td>6698</td>\n",
       "      <td>13967.0</td>\n",
       "      <td>52.8%</td>\n",
       "      <td>False</td>\n",
       "    </tr>\n",
       "    <tr>\n",
       "      <th>7</th>\n",
       "      <td>Rogers Saddle</td>\n",
       "      <td>49.77</td>\n",
       "      <td>6790</td>\n",
       "      <td>14073.0</td>\n",
       "      <td>53.2%</td>\n",
       "      <td>False</td>\n",
       "    </tr>\n",
       "    <tr>\n",
       "      <th>8</th>\n",
       "      <td>Railroad Bed</td>\n",
       "      <td>50.15</td>\n",
       "      <td>6520</td>\n",
       "      <td>NaN</td>\n",
       "      <td>NaN</td>\n",
       "      <td>False</td>\n",
       "    </tr>\n",
       "    <tr>\n",
       "      <th>9</th>\n",
       "      <td>Lambs Canyon Underpass Aid Station</td>\n",
       "      <td>52.48</td>\n",
       "      <td>6111</td>\n",
       "      <td>14329.0</td>\n",
       "      <td>54.2%</td>\n",
       "      <td>True</td>\n",
       "    </tr>\n",
       "    <tr>\n",
       "      <th>10</th>\n",
       "      <td>Lambs Trail</td>\n",
       "      <td>54.14</td>\n",
       "      <td>6628</td>\n",
       "      <td>14805.0</td>\n",
       "      <td>56.0%</td>\n",
       "      <td>False</td>\n",
       "    </tr>\n",
       "  </tbody>\n",
       "</table>\n",
       "</div>"
      ],
      "text/plain": [
       "                                  LOCATION  MILES  ELEVATION    CUMUL  \\\n",
       "0            Big Mountain Pass Aid Station  39.07       7432  11579.0   \n",
       "1                         Mules Ear Meadow  40.75       7478  12008.0   \n",
       "2                            Bald Mountain  42.46       7869  12593.0   \n",
       "3                              Pence Point  43.99       7521  12813.0   \n",
       "4              Alexander Ridge Aid Station  46.90       6160  13169.0   \n",
       "5                        Alexander Springs  47.97       5956  13319.0   \n",
       "6                    Rogers Trail Junction  49.52       6698  13967.0   \n",
       "7                            Rogers Saddle  49.77       6790  14073.0   \n",
       "8                             Railroad Bed  50.15       6520      NaN   \n",
       "9       Lambs Canyon Underpass Aid Station  52.48       6111  14329.0   \n",
       "10                             Lambs Trail  54.14       6628  14805.0   \n",
       "\n",
       "   % CUMUL GAIN  STATION  \n",
       "0         43.8%     True  \n",
       "1         45.4%    False  \n",
       "2         47.6%    False  \n",
       "3         48.4%    False  \n",
       "4         49.8%     True  \n",
       "5         50.3%    False  \n",
       "6         52.8%    False  \n",
       "7         53.2%    False  \n",
       "8           NaN    False  \n",
       "9         54.2%     True  \n",
       "10        56.0%    False  "
      ]
     },
     "execution_count": 79,
     "metadata": {},
     "output_type": "execute_result"
    }
   ],
   "source": [
    "df # .pop() works in place and is irreversible"
   ]
  },
  {
   "cell_type": "code",
   "execution_count": 81,
   "metadata": {},
   "outputs": [
    {
     "data": {
      "text/html": [
       "<div>\n",
       "<style scoped>\n",
       "    .dataframe tbody tr th:only-of-type {\n",
       "        vertical-align: middle;\n",
       "    }\n",
       "\n",
       "    .dataframe tbody tr th {\n",
       "        vertical-align: top;\n",
       "    }\n",
       "\n",
       "    .dataframe thead th {\n",
       "        text-align: right;\n",
       "    }\n",
       "</style>\n",
       "<table border=\"1\" class=\"dataframe\">\n",
       "  <thead>\n",
       "    <tr style=\"text-align: right;\">\n",
       "      <th></th>\n",
       "      <th>LOCATION</th>\n",
       "      <th>MILES</th>\n",
       "      <th>ELEVATION</th>\n",
       "      <th>CUMUL</th>\n",
       "      <th>% CUMUL GAIN</th>\n",
       "      <th>STATION</th>\n",
       "      <th>bogus</th>\n",
       "    </tr>\n",
       "  </thead>\n",
       "  <tbody>\n",
       "    <tr>\n",
       "      <th>0</th>\n",
       "      <td>Big Mountain Pass Aid Station</td>\n",
       "      <td>39.07</td>\n",
       "      <td>7432</td>\n",
       "      <td>11579.0</td>\n",
       "      <td>43.8%</td>\n",
       "      <td>True</td>\n",
       "      <td>0</td>\n",
       "    </tr>\n",
       "    <tr>\n",
       "      <th>1</th>\n",
       "      <td>Mules Ear Meadow</td>\n",
       "      <td>40.75</td>\n",
       "      <td>7478</td>\n",
       "      <td>12008.0</td>\n",
       "      <td>45.4%</td>\n",
       "      <td>False</td>\n",
       "      <td>1</td>\n",
       "    </tr>\n",
       "    <tr>\n",
       "      <th>2</th>\n",
       "      <td>Bald Mountain</td>\n",
       "      <td>42.46</td>\n",
       "      <td>7869</td>\n",
       "      <td>12593.0</td>\n",
       "      <td>47.6%</td>\n",
       "      <td>False</td>\n",
       "      <td>2</td>\n",
       "    </tr>\n",
       "    <tr>\n",
       "      <th>3</th>\n",
       "      <td>Pence Point</td>\n",
       "      <td>43.99</td>\n",
       "      <td>7521</td>\n",
       "      <td>12813.0</td>\n",
       "      <td>48.4%</td>\n",
       "      <td>False</td>\n",
       "      <td>3</td>\n",
       "    </tr>\n",
       "    <tr>\n",
       "      <th>4</th>\n",
       "      <td>Alexander Ridge Aid Station</td>\n",
       "      <td>46.90</td>\n",
       "      <td>6160</td>\n",
       "      <td>13169.0</td>\n",
       "      <td>49.8%</td>\n",
       "      <td>True</td>\n",
       "      <td>4</td>\n",
       "    </tr>\n",
       "    <tr>\n",
       "      <th>5</th>\n",
       "      <td>Alexander Springs</td>\n",
       "      <td>47.97</td>\n",
       "      <td>5956</td>\n",
       "      <td>13319.0</td>\n",
       "      <td>50.3%</td>\n",
       "      <td>False</td>\n",
       "      <td>5</td>\n",
       "    </tr>\n",
       "    <tr>\n",
       "      <th>6</th>\n",
       "      <td>Rogers Trail Junction</td>\n",
       "      <td>49.52</td>\n",
       "      <td>6698</td>\n",
       "      <td>13967.0</td>\n",
       "      <td>52.8%</td>\n",
       "      <td>False</td>\n",
       "      <td>6</td>\n",
       "    </tr>\n",
       "    <tr>\n",
       "      <th>7</th>\n",
       "      <td>Rogers Saddle</td>\n",
       "      <td>49.77</td>\n",
       "      <td>6790</td>\n",
       "      <td>14073.0</td>\n",
       "      <td>53.2%</td>\n",
       "      <td>False</td>\n",
       "      <td>7</td>\n",
       "    </tr>\n",
       "    <tr>\n",
       "      <th>8</th>\n",
       "      <td>Railroad Bed</td>\n",
       "      <td>50.15</td>\n",
       "      <td>6520</td>\n",
       "      <td>NaN</td>\n",
       "      <td>NaN</td>\n",
       "      <td>False</td>\n",
       "      <td>8</td>\n",
       "    </tr>\n",
       "    <tr>\n",
       "      <th>9</th>\n",
       "      <td>Lambs Canyon Underpass Aid Station</td>\n",
       "      <td>52.48</td>\n",
       "      <td>6111</td>\n",
       "      <td>14329.0</td>\n",
       "      <td>54.2%</td>\n",
       "      <td>True</td>\n",
       "      <td>9</td>\n",
       "    </tr>\n",
       "    <tr>\n",
       "      <th>10</th>\n",
       "      <td>Lambs Trail</td>\n",
       "      <td>54.14</td>\n",
       "      <td>6628</td>\n",
       "      <td>14805.0</td>\n",
       "      <td>56.0%</td>\n",
       "      <td>False</td>\n",
       "      <td>10</td>\n",
       "    </tr>\n",
       "  </tbody>\n",
       "</table>\n",
       "</div>"
      ],
      "text/plain": [
       "                                  LOCATION  MILES  ELEVATION    CUMUL  \\\n",
       "0            Big Mountain Pass Aid Station  39.07       7432  11579.0   \n",
       "1                         Mules Ear Meadow  40.75       7478  12008.0   \n",
       "2                            Bald Mountain  42.46       7869  12593.0   \n",
       "3                              Pence Point  43.99       7521  12813.0   \n",
       "4              Alexander Ridge Aid Station  46.90       6160  13169.0   \n",
       "5                        Alexander Springs  47.97       5956  13319.0   \n",
       "6                    Rogers Trail Junction  49.52       6698  13967.0   \n",
       "7                            Rogers Saddle  49.77       6790  14073.0   \n",
       "8                             Railroad Bed  50.15       6520      NaN   \n",
       "9       Lambs Canyon Underpass Aid Station  52.48       6111  14329.0   \n",
       "10                             Lambs Trail  54.14       6628  14805.0   \n",
       "\n",
       "   % CUMUL GAIN  STATION  bogus  \n",
       "0         43.8%     True      0  \n",
       "1         45.4%    False      1  \n",
       "2         47.6%    False      2  \n",
       "3         48.4%    False      3  \n",
       "4         49.8%     True      4  \n",
       "5         50.3%    False      5  \n",
       "6         52.8%    False      6  \n",
       "7         53.2%    False      7  \n",
       "8           NaN    False      8  \n",
       "9         54.2%     True      9  \n",
       "10        56.0%    False     10  "
      ]
     },
     "execution_count": 81,
     "metadata": {},
     "output_type": "execute_result"
    }
   ],
   "source": [
    "df.loc[:, 'bogus'] = bogus\n",
    "\n",
    "df"
   ]
  },
  {
   "cell_type": "code",
   "execution_count": 83,
   "metadata": {},
   "outputs": [
    {
     "data": {
      "text/html": [
       "<div>\n",
       "<style scoped>\n",
       "    .dataframe tbody tr th:only-of-type {\n",
       "        vertical-align: middle;\n",
       "    }\n",
       "\n",
       "    .dataframe tbody tr th {\n",
       "        vertical-align: top;\n",
       "    }\n",
       "\n",
       "    .dataframe thead th {\n",
       "        text-align: right;\n",
       "    }\n",
       "</style>\n",
       "<table border=\"1\" class=\"dataframe\">\n",
       "  <thead>\n",
       "    <tr style=\"text-align: right;\">\n",
       "      <th></th>\n",
       "      <th>LOCATION</th>\n",
       "      <th>MILES</th>\n",
       "      <th>ELEVATION</th>\n",
       "      <th>CUMUL</th>\n",
       "      <th>% CUMUL GAIN</th>\n",
       "      <th>STATION</th>\n",
       "    </tr>\n",
       "  </thead>\n",
       "  <tbody>\n",
       "    <tr>\n",
       "      <th>0</th>\n",
       "      <td>Big Mountain Pass Aid Station</td>\n",
       "      <td>39.07</td>\n",
       "      <td>7432</td>\n",
       "      <td>11579.0</td>\n",
       "      <td>43.8%</td>\n",
       "      <td>True</td>\n",
       "    </tr>\n",
       "    <tr>\n",
       "      <th>1</th>\n",
       "      <td>Mules Ear Meadow</td>\n",
       "      <td>40.75</td>\n",
       "      <td>7478</td>\n",
       "      <td>12008.0</td>\n",
       "      <td>45.4%</td>\n",
       "      <td>False</td>\n",
       "    </tr>\n",
       "    <tr>\n",
       "      <th>2</th>\n",
       "      <td>Bald Mountain</td>\n",
       "      <td>42.46</td>\n",
       "      <td>7869</td>\n",
       "      <td>12593.0</td>\n",
       "      <td>47.6%</td>\n",
       "      <td>False</td>\n",
       "    </tr>\n",
       "    <tr>\n",
       "      <th>3</th>\n",
       "      <td>Pence Point</td>\n",
       "      <td>43.99</td>\n",
       "      <td>7521</td>\n",
       "      <td>12813.0</td>\n",
       "      <td>48.4%</td>\n",
       "      <td>False</td>\n",
       "    </tr>\n",
       "    <tr>\n",
       "      <th>4</th>\n",
       "      <td>Alexander Ridge Aid Station</td>\n",
       "      <td>46.90</td>\n",
       "      <td>6160</td>\n",
       "      <td>13169.0</td>\n",
       "      <td>49.8%</td>\n",
       "      <td>True</td>\n",
       "    </tr>\n",
       "    <tr>\n",
       "      <th>5</th>\n",
       "      <td>Alexander Springs</td>\n",
       "      <td>47.97</td>\n",
       "      <td>5956</td>\n",
       "      <td>13319.0</td>\n",
       "      <td>50.3%</td>\n",
       "      <td>False</td>\n",
       "    </tr>\n",
       "    <tr>\n",
       "      <th>6</th>\n",
       "      <td>Rogers Trail Junction</td>\n",
       "      <td>49.52</td>\n",
       "      <td>6698</td>\n",
       "      <td>13967.0</td>\n",
       "      <td>52.8%</td>\n",
       "      <td>False</td>\n",
       "    </tr>\n",
       "    <tr>\n",
       "      <th>7</th>\n",
       "      <td>Rogers Saddle</td>\n",
       "      <td>49.77</td>\n",
       "      <td>6790</td>\n",
       "      <td>14073.0</td>\n",
       "      <td>53.2%</td>\n",
       "      <td>False</td>\n",
       "    </tr>\n",
       "    <tr>\n",
       "      <th>8</th>\n",
       "      <td>Railroad Bed</td>\n",
       "      <td>50.15</td>\n",
       "      <td>6520</td>\n",
       "      <td>NaN</td>\n",
       "      <td>NaN</td>\n",
       "      <td>False</td>\n",
       "    </tr>\n",
       "    <tr>\n",
       "      <th>9</th>\n",
       "      <td>Lambs Canyon Underpass Aid Station</td>\n",
       "      <td>52.48</td>\n",
       "      <td>6111</td>\n",
       "      <td>14329.0</td>\n",
       "      <td>54.2%</td>\n",
       "      <td>True</td>\n",
       "    </tr>\n",
       "    <tr>\n",
       "      <th>10</th>\n",
       "      <td>Lambs Trail</td>\n",
       "      <td>54.14</td>\n",
       "      <td>6628</td>\n",
       "      <td>14805.0</td>\n",
       "      <td>56.0%</td>\n",
       "      <td>False</td>\n",
       "    </tr>\n",
       "  </tbody>\n",
       "</table>\n",
       "</div>"
      ],
      "text/plain": [
       "                                  LOCATION  MILES  ELEVATION    CUMUL  \\\n",
       "0            Big Mountain Pass Aid Station  39.07       7432  11579.0   \n",
       "1                         Mules Ear Meadow  40.75       7478  12008.0   \n",
       "2                            Bald Mountain  42.46       7869  12593.0   \n",
       "3                              Pence Point  43.99       7521  12813.0   \n",
       "4              Alexander Ridge Aid Station  46.90       6160  13169.0   \n",
       "5                        Alexander Springs  47.97       5956  13319.0   \n",
       "6                    Rogers Trail Junction  49.52       6698  13967.0   \n",
       "7                            Rogers Saddle  49.77       6790  14073.0   \n",
       "8                             Railroad Bed  50.15       6520      NaN   \n",
       "9       Lambs Canyon Underpass Aid Station  52.48       6111  14329.0   \n",
       "10                             Lambs Trail  54.14       6628  14805.0   \n",
       "\n",
       "   % CUMUL GAIN  STATION  \n",
       "0         43.8%     True  \n",
       "1         45.4%    False  \n",
       "2         47.6%    False  \n",
       "3         48.4%    False  \n",
       "4         49.8%     True  \n",
       "5         50.3%    False  \n",
       "6         52.8%    False  \n",
       "7         53.2%    False  \n",
       "8           NaN    False  \n",
       "9         54.2%     True  \n",
       "10        56.0%    False  "
      ]
     },
     "execution_count": 83,
     "metadata": {},
     "output_type": "execute_result"
    }
   ],
   "source": [
    "del df['bogus'] # The del statement works as expected, in this case do not use .loc[], but use the [] accessor\n",
    "\n",
    "df"
   ]
  }
 ],
 "metadata": {
  "kernelspec": {
   "display_name": "Python 3",
   "language": "python",
   "name": "python3"
  },
  "language_info": {
   "codemirror_mode": {
    "name": "ipython",
    "version": 3
   },
   "file_extension": ".py",
   "mimetype": "text/x-python",
   "name": "python",
   "nbconvert_exporter": "python",
   "pygments_lexer": "ipython3",
   "version": "3.7.7"
  }
 },
 "nbformat": 4,
 "nbformat_minor": 4
}
