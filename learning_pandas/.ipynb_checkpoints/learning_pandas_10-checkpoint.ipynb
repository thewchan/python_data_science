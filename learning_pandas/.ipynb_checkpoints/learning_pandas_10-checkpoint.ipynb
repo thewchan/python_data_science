{
 "cells": [
  {
   "cell_type": "markdown",
   "metadata": {},
   "source": [
    "### Example Data Science Project\n",
    "\n",
    "Let's use pandas to analyze data from the Utah Avalanche Center. "
   ]
  },
  {
   "cell_type": "code",
   "execution_count": 4,
   "metadata": {},
   "outputs": [
    {
     "data": {
      "text/plain": [
       "Unnamed: 0                           int64\n",
       "Accident and Rescue Summary:        object\n",
       "Aspect:                             object\n",
       "Avalanche Problem:                  object\n",
       "Avalanche Type:                     object\n",
       "Buried - Fully:                    float64\n",
       "Buried - Partly:                   float64\n",
       "Carried:                           float64\n",
       "Caught:                            float64\n",
       "Comments:                           object\n",
       "Coordinates:                        object\n",
       "Depth:                              object\n",
       "Elevation:                          object\n",
       "Injured:                           float64\n",
       "Killed:                              int64\n",
       "Location Name or Route:             object\n",
       "Observation Date:                   object\n",
       "Observer Name:                      object\n",
       "Occurence Time:                     object\n",
       "Occurrence Date:                    object\n",
       "Region:                             object\n",
       "Slope Angle:                       float64\n",
       "Snow Profile Comments:              object\n",
       "Terrain Summary:                    object\n",
       "Trigger:                            object\n",
       "Trigger: additional info:           object\n",
       "Vertical:                           object\n",
       "Video:                             float64\n",
       "Weak Layer:                         object\n",
       "Weather Conditions and History:     object\n",
       "Width:                              object\n",
       "coordinates                         object\n",
       "killed                               int64\n",
       "occurrence-date                     object\n",
       "region-forecaster                   object\n",
       "region-forecaster-1                 object\n",
       "trigger                             object\n",
       "url                                 object\n",
       "dtype: object"
      ]
     },
     "execution_count": 4,
     "metadata": {},
     "output_type": "execute_result"
    }
   ],
   "source": [
    "import pandas as pd\n",
    "\n",
    "\n",
    "df = pd.read_csv('ava-all.csv')\n",
    "df.dtypes"
   ]
  },
  {
   "cell_type": "markdown",
   "metadata": {},
   "source": [
    "We can see that the dataset is huge, and contain numeric data as well as strings (with `dtype=object`). The dates are generally not read as such, and we'll need to convert those."
   ]
  },
  {
   "cell_type": "markdown",
   "metadata": {},
   "source": [
    "### Describing Data\n",
    "\n",
    "Let's check the size of the dataset:"
   ]
  },
  {
   "cell_type": "code",
   "execution_count": 5,
   "metadata": {},
   "outputs": [
    {
     "data": {
      "text/plain": [
       "(92, 38)"
      ]
     },
     "execution_count": 5,
     "metadata": {},
     "output_type": "execute_result"
    }
   ],
   "source": [
    "df.shape"
   ]
  },
  {
   "cell_type": "markdown",
   "metadata": {},
   "source": [
    "Not bad, 92 rows and 38 coluns. Next let's grab some summary statistics:"
   ]
  },
  {
   "cell_type": "code",
   "execution_count": 6,
   "metadata": {},
   "outputs": [
    {
     "data": {
      "text/html": [
       "<div>\n",
       "<style scoped>\n",
       "    .dataframe tbody tr th:only-of-type {\n",
       "        vertical-align: middle;\n",
       "    }\n",
       "\n",
       "    .dataframe tbody tr th {\n",
       "        vertical-align: top;\n",
       "    }\n",
       "\n",
       "    .dataframe thead th {\n",
       "        text-align: right;\n",
       "    }\n",
       "</style>\n",
       "<table border=\"1\" class=\"dataframe\">\n",
       "  <thead>\n",
       "    <tr style=\"text-align: right;\">\n",
       "      <th></th>\n",
       "      <th>Unnamed: 0</th>\n",
       "      <th>Buried - Fully:</th>\n",
       "      <th>Buried - Partly:</th>\n",
       "      <th>Carried:</th>\n",
       "      <th>Caught:</th>\n",
       "      <th>Injured:</th>\n",
       "      <th>Killed:</th>\n",
       "      <th>Slope Angle:</th>\n",
       "      <th>Video:</th>\n",
       "      <th>killed</th>\n",
       "    </tr>\n",
       "  </thead>\n",
       "  <tbody>\n",
       "    <tr>\n",
       "      <th>count</th>\n",
       "      <td>92.00000</td>\n",
       "      <td>64.000000</td>\n",
       "      <td>22.000000</td>\n",
       "      <td>71.000000</td>\n",
       "      <td>72.000000</td>\n",
       "      <td>5.0</td>\n",
       "      <td>92.000000</td>\n",
       "      <td>42.000000</td>\n",
       "      <td>0.0</td>\n",
       "      <td>92.000000</td>\n",
       "    </tr>\n",
       "    <tr>\n",
       "      <th>mean</th>\n",
       "      <td>45.50000</td>\n",
       "      <td>1.156250</td>\n",
       "      <td>1.090909</td>\n",
       "      <td>1.591549</td>\n",
       "      <td>1.638889</td>\n",
       "      <td>1.0</td>\n",
       "      <td>1.163043</td>\n",
       "      <td>37.785714</td>\n",
       "      <td>NaN</td>\n",
       "      <td>1.163043</td>\n",
       "    </tr>\n",
       "    <tr>\n",
       "      <th>std</th>\n",
       "      <td>26.70206</td>\n",
       "      <td>0.365963</td>\n",
       "      <td>0.294245</td>\n",
       "      <td>1.049863</td>\n",
       "      <td>1.091653</td>\n",
       "      <td>0.0</td>\n",
       "      <td>0.475260</td>\n",
       "      <td>5.567921</td>\n",
       "      <td>NaN</td>\n",
       "      <td>0.475260</td>\n",
       "    </tr>\n",
       "    <tr>\n",
       "      <th>min</th>\n",
       "      <td>0.00000</td>\n",
       "      <td>1.000000</td>\n",
       "      <td>1.000000</td>\n",
       "      <td>1.000000</td>\n",
       "      <td>1.000000</td>\n",
       "      <td>1.0</td>\n",
       "      <td>1.000000</td>\n",
       "      <td>10.000000</td>\n",
       "      <td>NaN</td>\n",
       "      <td>1.000000</td>\n",
       "    </tr>\n",
       "    <tr>\n",
       "      <th>25%</th>\n",
       "      <td>22.75000</td>\n",
       "      <td>1.000000</td>\n",
       "      <td>1.000000</td>\n",
       "      <td>1.000000</td>\n",
       "      <td>1.000000</td>\n",
       "      <td>1.0</td>\n",
       "      <td>1.000000</td>\n",
       "      <td>36.000000</td>\n",
       "      <td>NaN</td>\n",
       "      <td>1.000000</td>\n",
       "    </tr>\n",
       "    <tr>\n",
       "      <th>50%</th>\n",
       "      <td>45.50000</td>\n",
       "      <td>1.000000</td>\n",
       "      <td>1.000000</td>\n",
       "      <td>1.000000</td>\n",
       "      <td>1.000000</td>\n",
       "      <td>1.0</td>\n",
       "      <td>1.000000</td>\n",
       "      <td>38.000000</td>\n",
       "      <td>NaN</td>\n",
       "      <td>1.000000</td>\n",
       "    </tr>\n",
       "    <tr>\n",
       "      <th>75%</th>\n",
       "      <td>68.25000</td>\n",
       "      <td>1.000000</td>\n",
       "      <td>1.000000</td>\n",
       "      <td>2.000000</td>\n",
       "      <td>2.000000</td>\n",
       "      <td>1.0</td>\n",
       "      <td>1.000000</td>\n",
       "      <td>40.000000</td>\n",
       "      <td>NaN</td>\n",
       "      <td>1.000000</td>\n",
       "    </tr>\n",
       "    <tr>\n",
       "      <th>max</th>\n",
       "      <td>91.00000</td>\n",
       "      <td>2.000000</td>\n",
       "      <td>2.000000</td>\n",
       "      <td>7.000000</td>\n",
       "      <td>7.000000</td>\n",
       "      <td>1.0</td>\n",
       "      <td>4.000000</td>\n",
       "      <td>50.000000</td>\n",
       "      <td>NaN</td>\n",
       "      <td>4.000000</td>\n",
       "    </tr>\n",
       "  </tbody>\n",
       "</table>\n",
       "</div>"
      ],
      "text/plain": [
       "       Unnamed: 0  Buried - Fully:  Buried - Partly:   Carried:    Caught:  \\\n",
       "count    92.00000        64.000000         22.000000  71.000000  72.000000   \n",
       "mean     45.50000         1.156250          1.090909   1.591549   1.638889   \n",
       "std      26.70206         0.365963          0.294245   1.049863   1.091653   \n",
       "min       0.00000         1.000000          1.000000   1.000000   1.000000   \n",
       "25%      22.75000         1.000000          1.000000   1.000000   1.000000   \n",
       "50%      45.50000         1.000000          1.000000   1.000000   1.000000   \n",
       "75%      68.25000         1.000000          1.000000   2.000000   2.000000   \n",
       "max      91.00000         2.000000          2.000000   7.000000   7.000000   \n",
       "\n",
       "       Injured:    Killed:  Slope Angle:  Video:     killed  \n",
       "count       5.0  92.000000     42.000000     0.0  92.000000  \n",
       "mean        1.0   1.163043     37.785714     NaN   1.163043  \n",
       "std         0.0   0.475260      5.567921     NaN   0.475260  \n",
       "min         1.0   1.000000     10.000000     NaN   1.000000  \n",
       "25%         1.0   1.000000     36.000000     NaN   1.000000  \n",
       "50%         1.0   1.000000     38.000000     NaN   1.000000  \n",
       "75%         1.0   1.000000     40.000000     NaN   1.000000  \n",
       "max         1.0   4.000000     50.000000     NaN   4.000000  "
      ]
     },
     "execution_count": 6,
     "metadata": {},
     "output_type": "execute_result"
    }
   ],
   "source": [
    "df.describe()"
   ]
  },
  {
   "cell_type": "markdown",
   "metadata": {},
   "source": [
    "Based on this, already we know that there were 64 avalanches that had people buried. The avergae number of people buried was 1.15, with a minimum of 1 person and a maximum of 2. We can also tell that there are many `NaN` values, although we aren't sure what that means. One way to check is to drop all the `NaN` values, then generate the summary statistics again:"
   ]
  },
  {
   "cell_type": "code",
   "execution_count": 7,
   "metadata": {},
   "outputs": [
    {
     "data": {
      "text/html": [
       "<div>\n",
       "<style scoped>\n",
       "    .dataframe tbody tr th:only-of-type {\n",
       "        vertical-align: middle;\n",
       "    }\n",
       "\n",
       "    .dataframe tbody tr th {\n",
       "        vertical-align: top;\n",
       "    }\n",
       "\n",
       "    .dataframe thead th {\n",
       "        text-align: right;\n",
       "    }\n",
       "</style>\n",
       "<table border=\"1\" class=\"dataframe\">\n",
       "  <thead>\n",
       "    <tr style=\"text-align: right;\">\n",
       "      <th></th>\n",
       "      <th>Unnamed: 0</th>\n",
       "      <th>Buried - Fully:</th>\n",
       "      <th>Buried - Partly:</th>\n",
       "      <th>Carried:</th>\n",
       "      <th>Caught:</th>\n",
       "      <th>Injured:</th>\n",
       "      <th>Killed:</th>\n",
       "      <th>Slope Angle:</th>\n",
       "      <th>Video:</th>\n",
       "      <th>killed</th>\n",
       "    </tr>\n",
       "  </thead>\n",
       "  <tbody>\n",
       "    <tr>\n",
       "      <th>count</th>\n",
       "      <td>92.00000</td>\n",
       "      <td>92.000000</td>\n",
       "      <td>92.000000</td>\n",
       "      <td>92.000000</td>\n",
       "      <td>92.000000</td>\n",
       "      <td>92.000000</td>\n",
       "      <td>92.000000</td>\n",
       "      <td>92.000000</td>\n",
       "      <td>92.0</td>\n",
       "      <td>92.000000</td>\n",
       "    </tr>\n",
       "    <tr>\n",
       "      <th>mean</th>\n",
       "      <td>45.50000</td>\n",
       "      <td>0.804348</td>\n",
       "      <td>0.260870</td>\n",
       "      <td>1.228261</td>\n",
       "      <td>1.282609</td>\n",
       "      <td>0.054348</td>\n",
       "      <td>1.163043</td>\n",
       "      <td>17.250000</td>\n",
       "      <td>0.0</td>\n",
       "      <td>1.163043</td>\n",
       "    </tr>\n",
       "    <tr>\n",
       "      <th>std</th>\n",
       "      <td>26.70206</td>\n",
       "      <td>0.615534</td>\n",
       "      <td>0.488765</td>\n",
       "      <td>1.139725</td>\n",
       "      <td>1.179738</td>\n",
       "      <td>0.227945</td>\n",
       "      <td>0.475260</td>\n",
       "      <td>19.289936</td>\n",
       "      <td>0.0</td>\n",
       "      <td>0.475260</td>\n",
       "    </tr>\n",
       "    <tr>\n",
       "      <th>min</th>\n",
       "      <td>0.00000</td>\n",
       "      <td>0.000000</td>\n",
       "      <td>0.000000</td>\n",
       "      <td>0.000000</td>\n",
       "      <td>0.000000</td>\n",
       "      <td>0.000000</td>\n",
       "      <td>1.000000</td>\n",
       "      <td>0.000000</td>\n",
       "      <td>0.0</td>\n",
       "      <td>1.000000</td>\n",
       "    </tr>\n",
       "    <tr>\n",
       "      <th>25%</th>\n",
       "      <td>22.75000</td>\n",
       "      <td>0.000000</td>\n",
       "      <td>0.000000</td>\n",
       "      <td>1.000000</td>\n",
       "      <td>1.000000</td>\n",
       "      <td>0.000000</td>\n",
       "      <td>1.000000</td>\n",
       "      <td>0.000000</td>\n",
       "      <td>0.0</td>\n",
       "      <td>1.000000</td>\n",
       "    </tr>\n",
       "    <tr>\n",
       "      <th>50%</th>\n",
       "      <td>45.50000</td>\n",
       "      <td>1.000000</td>\n",
       "      <td>0.000000</td>\n",
       "      <td>1.000000</td>\n",
       "      <td>1.000000</td>\n",
       "      <td>0.000000</td>\n",
       "      <td>1.000000</td>\n",
       "      <td>0.000000</td>\n",
       "      <td>0.0</td>\n",
       "      <td>1.000000</td>\n",
       "    </tr>\n",
       "    <tr>\n",
       "      <th>75%</th>\n",
       "      <td>68.25000</td>\n",
       "      <td>1.000000</td>\n",
       "      <td>0.000000</td>\n",
       "      <td>2.000000</td>\n",
       "      <td>2.000000</td>\n",
       "      <td>0.000000</td>\n",
       "      <td>1.000000</td>\n",
       "      <td>37.000000</td>\n",
       "      <td>0.0</td>\n",
       "      <td>1.000000</td>\n",
       "    </tr>\n",
       "    <tr>\n",
       "      <th>max</th>\n",
       "      <td>91.00000</td>\n",
       "      <td>2.000000</td>\n",
       "      <td>2.000000</td>\n",
       "      <td>7.000000</td>\n",
       "      <td>7.000000</td>\n",
       "      <td>1.000000</td>\n",
       "      <td>4.000000</td>\n",
       "      <td>50.000000</td>\n",
       "      <td>0.0</td>\n",
       "      <td>4.000000</td>\n",
       "    </tr>\n",
       "  </tbody>\n",
       "</table>\n",
       "</div>"
      ],
      "text/plain": [
       "       Unnamed: 0  Buried - Fully:  Buried - Partly:   Carried:    Caught:  \\\n",
       "count    92.00000        92.000000         92.000000  92.000000  92.000000   \n",
       "mean     45.50000         0.804348          0.260870   1.228261   1.282609   \n",
       "std      26.70206         0.615534          0.488765   1.139725   1.179738   \n",
       "min       0.00000         0.000000          0.000000   0.000000   0.000000   \n",
       "25%      22.75000         0.000000          0.000000   1.000000   1.000000   \n",
       "50%      45.50000         1.000000          0.000000   1.000000   1.000000   \n",
       "75%      68.25000         1.000000          0.000000   2.000000   2.000000   \n",
       "max      91.00000         2.000000          2.000000   7.000000   7.000000   \n",
       "\n",
       "        Injured:    Killed:  Slope Angle:  Video:     killed  \n",
       "count  92.000000  92.000000     92.000000    92.0  92.000000  \n",
       "mean    0.054348   1.163043     17.250000     0.0   1.163043  \n",
       "std     0.227945   0.475260     19.289936     0.0   0.475260  \n",
       "min     0.000000   1.000000      0.000000     0.0   1.000000  \n",
       "25%     0.000000   1.000000      0.000000     0.0   1.000000  \n",
       "50%     0.000000   1.000000      0.000000     0.0   1.000000  \n",
       "75%     0.000000   1.000000     37.000000     0.0   1.000000  \n",
       "max     1.000000   4.000000     50.000000     0.0   4.000000  "
      ]
     },
     "execution_count": 7,
     "metadata": {},
     "output_type": "execute_result"
    }
   ],
   "source": [
    "df.fillna(0).describe()"
   ]
  },
  {
   "cell_type": "markdown",
   "metadata": {},
   "source": [
    "Now the average number of people burried dropped to 0.8. This might alert us to check with someone in the know to better interpret the `NaN` values. \n",
    "\n",
    "Now, we can clean up the appearance of the DataFrame by replacing all the colons in the column labels with nothing:"
   ]
  },
  {
   "cell_type": "code",
   "execution_count": 9,
   "metadata": {},
   "outputs": [
    {
     "data": {
      "text/html": [
       "<div>\n",
       "<style scoped>\n",
       "    .dataframe tbody tr th:only-of-type {\n",
       "        vertical-align: middle;\n",
       "    }\n",
       "\n",
       "    .dataframe tbody tr th {\n",
       "        vertical-align: top;\n",
       "    }\n",
       "\n",
       "    .dataframe thead th {\n",
       "        text-align: right;\n",
       "    }\n",
       "</style>\n",
       "<table border=\"1\" class=\"dataframe\">\n",
       "  <thead>\n",
       "    <tr style=\"text-align: right;\">\n",
       "      <th></th>\n",
       "      <th>Unnamed 0</th>\n",
       "      <th>Buried - Fully</th>\n",
       "      <th>Buried - Partly</th>\n",
       "      <th>Carried</th>\n",
       "      <th>Caught</th>\n",
       "      <th>Injured</th>\n",
       "      <th>Killed</th>\n",
       "      <th>Slope Angle</th>\n",
       "      <th>Video</th>\n",
       "      <th>killed</th>\n",
       "    </tr>\n",
       "  </thead>\n",
       "  <tbody>\n",
       "    <tr>\n",
       "      <th>count</th>\n",
       "      <td>92.00000</td>\n",
       "      <td>64.000000</td>\n",
       "      <td>22.000000</td>\n",
       "      <td>71.000000</td>\n",
       "      <td>72.000000</td>\n",
       "      <td>5.0</td>\n",
       "      <td>92.000000</td>\n",
       "      <td>42.000000</td>\n",
       "      <td>0.0</td>\n",
       "      <td>92.000000</td>\n",
       "    </tr>\n",
       "    <tr>\n",
       "      <th>mean</th>\n",
       "      <td>45.50000</td>\n",
       "      <td>1.156250</td>\n",
       "      <td>1.090909</td>\n",
       "      <td>1.591549</td>\n",
       "      <td>1.638889</td>\n",
       "      <td>1.0</td>\n",
       "      <td>1.163043</td>\n",
       "      <td>37.785714</td>\n",
       "      <td>NaN</td>\n",
       "      <td>1.163043</td>\n",
       "    </tr>\n",
       "    <tr>\n",
       "      <th>std</th>\n",
       "      <td>26.70206</td>\n",
       "      <td>0.365963</td>\n",
       "      <td>0.294245</td>\n",
       "      <td>1.049863</td>\n",
       "      <td>1.091653</td>\n",
       "      <td>0.0</td>\n",
       "      <td>0.475260</td>\n",
       "      <td>5.567921</td>\n",
       "      <td>NaN</td>\n",
       "      <td>0.475260</td>\n",
       "    </tr>\n",
       "    <tr>\n",
       "      <th>min</th>\n",
       "      <td>0.00000</td>\n",
       "      <td>1.000000</td>\n",
       "      <td>1.000000</td>\n",
       "      <td>1.000000</td>\n",
       "      <td>1.000000</td>\n",
       "      <td>1.0</td>\n",
       "      <td>1.000000</td>\n",
       "      <td>10.000000</td>\n",
       "      <td>NaN</td>\n",
       "      <td>1.000000</td>\n",
       "    </tr>\n",
       "    <tr>\n",
       "      <th>25%</th>\n",
       "      <td>22.75000</td>\n",
       "      <td>1.000000</td>\n",
       "      <td>1.000000</td>\n",
       "      <td>1.000000</td>\n",
       "      <td>1.000000</td>\n",
       "      <td>1.0</td>\n",
       "      <td>1.000000</td>\n",
       "      <td>36.000000</td>\n",
       "      <td>NaN</td>\n",
       "      <td>1.000000</td>\n",
       "    </tr>\n",
       "    <tr>\n",
       "      <th>50%</th>\n",
       "      <td>45.50000</td>\n",
       "      <td>1.000000</td>\n",
       "      <td>1.000000</td>\n",
       "      <td>1.000000</td>\n",
       "      <td>1.000000</td>\n",
       "      <td>1.0</td>\n",
       "      <td>1.000000</td>\n",
       "      <td>38.000000</td>\n",
       "      <td>NaN</td>\n",
       "      <td>1.000000</td>\n",
       "    </tr>\n",
       "    <tr>\n",
       "      <th>75%</th>\n",
       "      <td>68.25000</td>\n",
       "      <td>1.000000</td>\n",
       "      <td>1.000000</td>\n",
       "      <td>2.000000</td>\n",
       "      <td>2.000000</td>\n",
       "      <td>1.0</td>\n",
       "      <td>1.000000</td>\n",
       "      <td>40.000000</td>\n",
       "      <td>NaN</td>\n",
       "      <td>1.000000</td>\n",
       "    </tr>\n",
       "    <tr>\n",
       "      <th>max</th>\n",
       "      <td>91.00000</td>\n",
       "      <td>2.000000</td>\n",
       "      <td>2.000000</td>\n",
       "      <td>7.000000</td>\n",
       "      <td>7.000000</td>\n",
       "      <td>1.0</td>\n",
       "      <td>4.000000</td>\n",
       "      <td>50.000000</td>\n",
       "      <td>NaN</td>\n",
       "      <td>4.000000</td>\n",
       "    </tr>\n",
       "  </tbody>\n",
       "</table>\n",
       "</div>"
      ],
      "text/plain": [
       "       Unnamed 0  Buried - Fully  Buried - Partly    Carried     Caught  \\\n",
       "count   92.00000       64.000000        22.000000  71.000000  72.000000   \n",
       "mean    45.50000        1.156250         1.090909   1.591549   1.638889   \n",
       "std     26.70206        0.365963         0.294245   1.049863   1.091653   \n",
       "min      0.00000        1.000000         1.000000   1.000000   1.000000   \n",
       "25%     22.75000        1.000000         1.000000   1.000000   1.000000   \n",
       "50%     45.50000        1.000000         1.000000   1.000000   1.000000   \n",
       "75%     68.25000        1.000000         1.000000   2.000000   2.000000   \n",
       "max     91.00000        2.000000         2.000000   7.000000   7.000000   \n",
       "\n",
       "       Injured     Killed  Slope Angle  Video     killed  \n",
       "count      5.0  92.000000    42.000000    0.0  92.000000  \n",
       "mean       1.0   1.163043    37.785714    NaN   1.163043  \n",
       "std        0.0   0.475260     5.567921    NaN   0.475260  \n",
       "min        1.0   1.000000    10.000000    NaN   1.000000  \n",
       "25%        1.0   1.000000    36.000000    NaN   1.000000  \n",
       "50%        1.0   1.000000    38.000000    NaN   1.000000  \n",
       "75%        1.0   1.000000    40.000000    NaN   1.000000  \n",
       "max        1.0   4.000000    50.000000    NaN   4.000000  "
      ]
     },
     "execution_count": 9,
     "metadata": {},
     "output_type": "execute_result"
    }
   ],
   "source": [
    "df = df.rename(columns={x: x.replace(':', '') for x in df.columns})\n",
    "\n",
    "df.describe()"
   ]
  },
  {
   "cell_type": "markdown",
   "metadata": {},
   "source": [
    "### Categorical Data\n",
    "\n",
    "There are many columns that didn't appear in the `.describe()` output table because they do not contain numerical values. These categorical data are important and we can inspect them with the `.value_counts()` method:"
   ]
  },
  {
   "cell_type": "code",
   "execution_count": 11,
   "metadata": {},
   "outputs": [
    {
     "data": {
      "text/plain": [
       "Northeast    24\n",
       "North        14\n",
       "East          9\n",
       "Northwest     9\n",
       "Southeast     3\n",
       "West          3\n",
       "South         1\n",
       "Name: Aspect, dtype: int64"
      ]
     },
     "execution_count": 11,
     "metadata": {},
     "output_type": "execute_result"
    }
   ],
   "source": [
    "df.loc[:, 'Aspect'].value_counts() # Recall that this generate a text-based \"histogram\" of sorts"
   ]
  },
  {
   "cell_type": "code",
   "execution_count": 12,
   "metadata": {},
   "outputs": [
    {
     "data": {
      "text/plain": [
       "Hard Slab       27\n",
       "Soft Slab       24\n",
       "Cornice Fall     1\n",
       "Wet Slab         1\n",
       "Name: Avalanche Type, dtype: int64"
      ]
     },
     "execution_count": 12,
     "metadata": {},
     "output_type": "execute_result"
    }
   ],
   "source": [
    "df.loc[:, 'Avalanche Type'].value_counts()"
   ]
  },
  {
   "cell_type": "markdown",
   "metadata": {},
   "source": [
    "It seems that there are missing values in these categorical columns as well. We can check clearly by summing the counts:"
   ]
  },
  {
   "cell_type": "code",
   "execution_count": 14,
   "metadata": {},
   "outputs": [
    {
     "data": {
      "text/plain": [
       "53"
      ]
     },
     "execution_count": 14,
     "metadata": {},
     "output_type": "execute_result"
    }
   ],
   "source": [
    "df.loc[:, 'Avalanche Type'].value_counts().sum()"
   ]
  },
  {
   "cell_type": "markdown",
   "metadata": {},
   "source": [
    "### Converting Column Types\n",
    "\n",
    "The \"Depth\" column should have been numeric but didn't show up in the `.describe()` table. Why is that?"
   ]
  },
  {
   "cell_type": "code",
   "execution_count": 15,
   "metadata": {},
   "outputs": [
    {
     "data": {
      "text/plain": [
       "0       3'\n",
       "1       4'\n",
       "2       4'\n",
       "3      18\"\n",
       "4       8\"\n",
       "5       2'\n",
       "6       3'\n",
       "7       2'\n",
       "8      16\"\n",
       "9       3'\n",
       "10    2.5'\n",
       "11     16\"\n",
       "12     NaN\n",
       "13    3.5'\n",
       "14      8'\n",
       "Name: Depth, dtype: object"
      ]
     },
     "execution_count": 15,
     "metadata": {},
     "output_type": "execute_result"
    }
   ],
   "source": [
    "df.loc[:, 'Depth'].head(15)"
   ]
  },
  {
   "cell_type": "markdown",
   "metadata": {},
   "source": [
    "So this is why, the feet and inch (') symbols were added and that messed up Python and pandas ability to recognize these values as numerics. The best way to deal with data that are this messy is via regular expression:"
   ]
  },
  {
   "cell_type": "code",
   "execution_count": 16,
   "metadata": {},
   "outputs": [],
   "source": [
    "import re\n",
    "\n",
    "\n",
    "def to_inches(orig):\n",
    "    txt = str(orig)\n",
    "    if txt == 'nan':\n",
    "        return orig\n",
    "    reg = r'''(((\\d*\\.)?\\d*)')?(((\\d*\\.)?\\d*)\")?'''\n",
    "    mo = re.search(reg, txt)\n",
    "    feet = mo.group(2) or 0\n",
    "    inches = mo.group(5) or 0\n",
    "    return float(feet) * 12 + float(inches)"
   ]
  },
  {
   "cell_type": "markdown",
   "metadata": {},
   "source": [
    "The above function returns `NaN` if that is what's in the depth entry. Otherwise it looks for optional feed (numbers followed by ') and optional inches (numbers followed by ''), then it computes and convert it into total inches."
   ]
  },
  {
   "cell_type": "code",
   "execution_count": 17,
   "metadata": {},
   "outputs": [
    {
     "data": {
      "text/plain": [
       "count    61.000000\n",
       "mean     32.573770\n",
       "std      17.628064\n",
       "min       0.000000\n",
       "25%      24.000000\n",
       "50%      30.000000\n",
       "75%      42.000000\n",
       "max      96.000000\n",
       "Name: depth_inches, dtype: float64"
      ]
     },
     "execution_count": 17,
     "metadata": {},
     "output_type": "execute_result"
    }
   ],
   "source": [
    "df.loc[:, 'depth_inches'] = df.loc[:, 'Depth'].apply(to_inches)\n",
    "\n",
    "df.loc[:, 'depth_inches'].describe()"
   ]
  },
  {
   "cell_type": "markdown",
   "metadata": {},
   "source": [
    "We're almost there; there are still a lot of missing values. Let's fill them with the median depth:"
   ]
  },
  {
   "cell_type": "code",
   "execution_count": 18,
   "metadata": {},
   "outputs": [
    {
     "data": {
      "text/plain": [
       "count    92.000000\n",
       "mean     31.706522\n",
       "std      14.366122\n",
       "min       0.000000\n",
       "25%      24.000000\n",
       "50%      30.000000\n",
       "75%      36.000000\n",
       "max      96.000000\n",
       "Name: depth_inches, dtype: float64"
      ]
     },
     "execution_count": 18,
     "metadata": {},
     "output_type": "execute_result"
    }
   ],
   "source": [
    "df.loc[:, 'depth_inches'] = df.loc[:, 'depth_inches'].fillna(df.loc[:, 'depth_inches'].median())\n",
    "\n",
    "df.loc[:, 'depth_inches'].describe()"
   ]
  },
  {
   "cell_type": "markdown",
   "metadata": {},
   "source": [
    "Another column that pandas misinterpreted as non-numeric is the \"Vertical\" column:"
   ]
  },
  {
   "cell_type": "code",
   "execution_count": 19,
   "metadata": {},
   "outputs": [
    {
     "data": {
      "text/plain": [
       "0        1500\n",
       "1         200\n",
       "2         175\n",
       "3         125\n",
       "4        1500\n",
       "5         250\n",
       "6          50\n",
       "7        1000\n",
       "8         600\n",
       "9         350\n",
       "10       2500\n",
       "11        800\n",
       "12        900\n",
       "13    Unknown\n",
       "14       1000\n",
       "Name: Vertical, dtype: object"
      ]
     },
     "execution_count": 19,
     "metadata": {},
     "output_type": "execute_result"
    }
   ],
   "source": [
    "df.loc[:, 'Vertical'].head(15)"
   ]
  },
  {
   "cell_type": "markdown",
   "metadata": {},
   "source": [
    "This is much easier, as pandas is simply treating the whole column as strings (because of the \"Unknown\" entries). We can simply use the `to_numeric()` function while passing `errors='coerce'` to convert all \"Unknown\" to `NaN`:"
   ]
  },
  {
   "cell_type": "code",
   "execution_count": 21,
   "metadata": {},
   "outputs": [
    {
     "data": {
      "text/plain": [
       "0     1500.0\n",
       "1      200.0\n",
       "2      175.0\n",
       "3      125.0\n",
       "4     1500.0\n",
       "       ...  \n",
       "87       NaN\n",
       "88    1500.0\n",
       "89     300.0\n",
       "90    1250.0\n",
       "91    1250.0\n",
       "Name: vert, Length: 92, dtype: float64"
      ]
     },
     "execution_count": 21,
     "metadata": {},
     "output_type": "execute_result"
    }
   ],
   "source": [
    "df.loc[:, 'vert'] = pd.to_numeric(df.loc[:, 'Vertical'], errors='coerce')\n",
    "\n",
    "df.loc[:, 'vert']"
   ]
  }
 ],
 "metadata": {
  "kernelspec": {
   "display_name": "Python 3",
   "language": "python",
   "name": "python3"
  },
  "language_info": {
   "codemirror_mode": {
    "name": "ipython",
    "version": 3
   },
   "file_extension": ".py",
   "mimetype": "text/x-python",
   "name": "python",
   "nbconvert_exporter": "python",
   "pygments_lexer": "ipython3",
   "version": "3.7.7"
  }
 },
 "nbformat": 4,
 "nbformat_minor": 4
}
