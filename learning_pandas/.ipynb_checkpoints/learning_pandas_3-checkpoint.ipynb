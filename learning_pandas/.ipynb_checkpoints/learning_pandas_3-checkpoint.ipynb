{
 "cells": [
  {
   "cell_type": "markdown",
   "metadata": {},
   "source": [
    "### Example pandas project\n",
    "\n",
    "In this project we will use a dictionary file as well as letter frequency to analyze optimal keyboard keys placement."
   ]
  },
  {
   "cell_type": "code",
   "execution_count": 1,
   "metadata": {},
   "outputs": [],
   "source": [
    "import pandas as pd\n",
    "\n",
    "filename = 'american-english'\n",
    "data = open(filename).read()\n",
    "data = ''.join(data.lower().split())"
   ]
  },
  {
   "cell_type": "markdown",
   "metadata": {},
   "source": [
    "We will use the `.collections.Counter` class to facilitate letter frequency analysis:"
   ]
  },
  {
   "cell_type": "code",
   "execution_count": 2,
   "metadata": {},
   "outputs": [
    {
     "data": {
      "text/plain": [
       "Counter({'a': 199554,\n",
       "         'l': 130463,\n",
       "         'i': 201032,\n",
       "         'm': 70680,\n",
       "         'n': 158743,\n",
       "         'r': 160985,\n",
       "         'd': 68191,\n",
       "         'v': 20177,\n",
       "         'k': 16158,\n",
       "         'w': 13864,\n",
       "         'o': 170692,\n",
       "         'f': 24165,\n",
       "         'c': 103440,\n",
       "         't': 152831,\n",
       "         'e': 235331,\n",
       "         'u': 87353,\n",
       "         'b': 40433,\n",
       "         'h': 64356,\n",
       "         'y': 51681,\n",
       "         's': 139542,\n",
       "         'p': 78163,\n",
       "         'g': 47094,\n",
       "         'z': 8460,\n",
       "         'x': 6932,\n",
       "         'j': 3167,\n",
       "         'q': 3734,\n",
       "         '-': 2})"
      ]
     },
     "execution_count": 2,
     "metadata": {},
     "output_type": "execute_result"
    }
   ],
   "source": [
    "from collections import Counter\n",
    "\n",
    "counts = Counter(data)\n",
    "counts"
   ]
  },
  {
   "cell_type": "markdown",
   "metadata": {},
   "source": [
    "This is a pretty messy way of doing frequency analysis with Python. With pandas, we can do so with a Series object instead:"
   ]
  },
  {
   "cell_type": "code",
   "execution_count": 3,
   "metadata": {},
   "outputs": [
    {
     "data": {
      "text/plain": [
       "0                  a\n",
       "1                 aa\n",
       "2                aal\n",
       "3              aalii\n",
       "4                aam\n",
       "             ...    \n",
       "235880        zythem\n",
       "235881        Zythia\n",
       "235882        zythum\n",
       "235883       Zyzomys\n",
       "235884    Zyzzogeton\n",
       "Name: A, Length: 235885, dtype: object"
      ]
     },
     "execution_count": 3,
     "metadata": {},
     "output_type": "execute_result"
    }
   ],
   "source": [
    "words = pd.read_csv('american-english', squeeze=True) # If squeeze=True is not passed the file will be read as a DataFrame\n",
    "\n",
    "words"
   ]
  },
  {
   "cell_type": "markdown",
   "metadata": {},
   "source": [
    "Let's say we want to proceed with our letter frequency analysis with a Series object, where the letters are the index values, and the counts are the numeric column. One way to do this is to create a new Series `counts` by iterating over the words using `.apply()` to add the count of every letter to `counts`:"
   ]
  },
  {
   "cell_type": "code",
   "execution_count": 4,
   "metadata": {},
   "outputs": [],
   "source": [
    "counts = pd.Series([], index=[], dtype='object')"
   ]
  },
  {
   "cell_type": "code",
   "execution_count": 24,
   "metadata": {},
   "outputs": [],
   "source": [
    "def update_counts(val):\n",
    "    global counts\n",
    "    for let in str(val):\n",
    "        let = str(let)\n",
    "        let = let.lower()\n",
    "        if type(let) == float:\n",
    "            continue\n",
    "        if type(val) == float:\n",
    "            break\n",
    "        count = counts.get(let, 0) + val.count(let)\n",
    "        counts.loc[let] = count"
   ]
  },
  {
   "cell_type": "code",
   "execution_count": 25,
   "metadata": {},
   "outputs": [],
   "source": [
    "_ = words.apply(update_counts)"
   ]
  },
  {
   "cell_type": "code",
   "execution_count": 26,
   "metadata": {},
   "outputs": [
    {
     "data": {
      "text/plain": [
       "e    1481333\n",
       "a    1280175\n",
       "i    1277178\n",
       "o    1011400\n",
       "n     796101\n",
       "dtype: int64"
      ]
     },
     "execution_count": 26,
     "metadata": {},
     "output_type": "execute_result"
    }
   ],
   "source": [
    "counts = counts.sort_values(ascending=False)\n",
    "counts.head()"
   ]
  },
  {
   "cell_type": "markdown",
   "metadata": {},
   "source": [
    "We can possibly improve the analysis by making sure no plurals of words were included in the count. This can be done by using a Boolean mask:"
   ]
  },
  {
   "cell_type": "code",
   "execution_count": 46,
   "metadata": {},
   "outputs": [
    {
     "data": {
      "text/plain": [
       "e    423489\n",
       "i    333634\n",
       "a    321353\n",
       "o    283699\n",
       "n    246966\n",
       "dtype: int64"
      ]
     },
     "execution_count": 46,
     "metadata": {},
     "output_type": "execute_result"
    }
   ],
   "source": [
    "mask = ~(words.str.contains(\"'\", na=False)) # need to avoid NaN values here, as that would raise an exception for the ~ operator\n",
    "words = words[mask]\n",
    "counts = pd.Series([], index=[], dtype='object')\n",
    "_ = words.apply(update_counts)\n",
    "counts = counts.sort_values(ascending=False)\n",
    "counts.head()"
   ]
  },
  {
   "cell_type": "markdown",
   "metadata": {},
   "source": [
    "We can plot this with the build-in `.plot()` method:"
   ]
  },
  {
   "cell_type": "code",
   "execution_count": 47,
   "metadata": {},
   "outputs": [
    {
     "data": {
      "text/plain": [
       "<matplotlib.axes._subplots.AxesSubplot at 0x17ffc52cf88>"
      ]
     },
     "execution_count": 47,
     "metadata": {},
     "output_type": "execute_result"
    },
    {
     "data": {
      "image/png": "[encoded data removed]",
      "text/plain": [
       "<Figure size 432x288 with 1 Axes>"
      ]
     },
     "metadata": {
      "needs_background": "light"
     },
     "output_type": "display_data"
    }
   ],
   "source": [
    "import matplotlib.pyplot as plt\n",
    "\n",
    "fig = plt.figure()\n",
    "counts.plot(title='Letter Counts')"
   ]
  },
  {
   "cell_type": "markdown",
   "metadata": {},
   "source": [
    "In cases like this, a bar plot is probably a better visualization:"
   ]
  },
  {
   "cell_type": "code",
   "execution_count": 49,
   "metadata": {},
   "outputs": [
    {
     "data": {
      "text/plain": [
       "<matplotlib.axes._subplots.AxesSubplot at 0x17f80ef1bc8>"
      ]
     },
     "execution_count": 49,
     "metadata": {},
     "output_type": "execute_result"
    },
    {
     "data": {
      "image/png": "[encoded data removed]",
      "text/plain": [
       "<Figure size 432x288 with 1 Axes>"
      ]
     },
     "metadata": {
      "needs_background": "light"
     },
     "output_type": "display_data"
    }
   ],
   "source": [
    "fig = plt.figure()\n",
    "counts.plot(kind='bar', title='Letter Counts')"
   ]
  },
  {
   "cell_type": "markdown",
   "metadata": {},
   "source": [
    "We can generate a frequency plot instead of a count plot by dividing counts to its sum:"
   ]
  },
  {
   "cell_type": "code",
   "execution_count": 50,
   "metadata": {},
   "outputs": [
    {
     "data": {
      "text/plain": [
       "<matplotlib.axes._subplots.AxesSubplot at 0x17f810021c8>"
      ]
     },
     "execution_count": 50,
     "metadata": {},
     "output_type": "execute_result"
    },
    {
     "data": {
      "image/png": "[encoded data removed]",
      "text/plain": [
       "<Figure size 432x288 with 1 Axes>"
      ]
     },
     "metadata": {
      "needs_background": "light"
     },
     "output_type": "display_data"
    }
   ],
   "source": [
    "fig = plt.figure()\n",
    "freq = counts / counts.sum()\n",
    "freq.sort_index().plot(kind='bar', title='Letter Frequency')"
   ]
  },
  {
   "cell_type": "markdown",
   "metadata": {},
   "source": [
    "### An easier way\n",
    "\n",
    "Instead of doing what we did above, we can treat the whole file that we want to analyze as a list of utf-8 encoded list of characters (including newlines)."
   ]
  },
  {
   "cell_type": "code",
   "execution_count": 52,
   "metadata": {},
   "outputs": [
    {
     "data": {
      "text/plain": [
       "z     38.461538\n",
       "c     15.384615\n",
       "a     15.384615\n",
       "b     15.384615\n",
       "\\n    15.384615\n",
       "dtype: float64"
      ]
     },
     "execution_count": 52,
     "metadata": {},
     "output_type": "execute_result"
    }
   ],
   "source": [
    "from io import StringIO\n",
    "\n",
    "def get_freq(fin):\n",
    "    ser = pd.Series(list(fin.read()))\n",
    "    ser = ser.value_counts()\n",
    "    return (ser * 100.) / ser.sum()\n",
    "\n",
    "fin = StringIO('abcabczzzzz\\n\\n')\n",
    "ser = get_freq(fin)\n",
    "\n",
    "ser"
   ]
  },
  {
   "cell_type": "markdown",
   "metadata": {},
   "source": [
    "We can try this with the `american-english` file:"
   ]
  },
  {
   "cell_type": "code",
   "execution_count": 54,
   "metadata": {},
   "outputs": [
    {
     "data": {
      "text/plain": [
       "\\n    9.461520\n",
       "e     9.402437\n",
       "i     8.043611\n",
       "a     7.901580\n",
       "o     6.821282\n",
       "r     6.428479\n",
       "n     6.339915\n",
       "t     6.066883\n",
       "s     5.500722\n",
       "l     5.189905\n",
       "c     4.048920\n",
       "u     3.495435\n",
       "p     3.043268\n",
       "m     2.758524\n",
       "d     2.697074\n",
       "h     2.535709\n",
       "y     2.067379\n",
       "g     1.848134\n",
       "b     1.565836\n",
       "f     0.950099\n",
       "v     0.794831\n",
       "k     0.626206\n",
       "w     0.542576\n",
       "z     0.330110\n",
       "x     0.274356\n",
       "q     0.146684\n",
       "j     0.107617\n",
       "A     0.102643\n",
       "C     0.100116\n",
       "S     0.096386\n",
       "P     0.091893\n",
       "M     0.076491\n",
       "T     0.063254\n",
       "B     0.055954\n",
       "H     0.045646\n",
       "L     0.043039\n",
       "G     0.040833\n",
       "D     0.038105\n",
       "E     0.036821\n",
       "R     0.028719\n",
       "N     0.027355\n",
       "O     0.025270\n",
       "K     0.021900\n",
       "I     0.019895\n",
       "J     0.019414\n",
       "F     0.019173\n",
       "V     0.014480\n",
       "W     0.013517\n",
       "Z     0.009225\n",
       "U     0.008343\n",
       "Y     0.005575\n",
       "X     0.003690\n",
       "Q     0.003089\n",
       "-     0.000080\n",
       "dtype: float64"
      ]
     },
     "execution_count": 54,
     "metadata": {},
     "output_type": "execute_result"
    }
   ],
   "source": [
    "ser = get_freq(open('american-english'))\n",
    "\n",
    "ser"
   ]
  },
  {
   "cell_type": "code",
   "execution_count": 56,
   "metadata": {},
   "outputs": [
    {
     "data": {
      "text/plain": [
       "<matplotlib.axes._subplots.AxesSubplot at 0x17f810d0d88>"
      ]
     },
     "execution_count": 56,
     "metadata": {},
     "output_type": "execute_result"
    },
    {
     "data": {
      "image/png": "[encoded data removed]",
      "text/plain": [
       "<Figure size 432x288 with 1 Axes>"
      ]
     },
     "metadata": {
      "needs_background": "light"
     },
     "output_type": "display_data"
    }
   ],
   "source": [
    "fig = plt.figure()\n",
    "ser.plot(kind='bar', title='Custom Letter Frequency')"
   ]
  }
 ],
 "metadata": {
  "kernelspec": {
   "display_name": "Python 3",
   "language": "python",
   "name": "python3"
  },
  "language_info": {
   "codemirror_mode": {
    "name": "ipython",
    "version": 3
   },
   "file_extension": ".py",
   "mimetype": "text/x-python",
   "name": "python",
   "nbconvert_exporter": "python",
   "pygments_lexer": "ipython3",
   "version": "3.7.7"
  }
 },
 "nbformat": 4,
 "nbformat_minor": 4
}
